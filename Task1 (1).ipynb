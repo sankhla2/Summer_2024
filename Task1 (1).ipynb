{
  "cells": [
    {
      "cell_type": "markdown",
      "source": [
        "# Installations"
      ],
      "metadata": {
        "id": "3Qov6b5_4hfS"
      }
    },
    {
      "cell_type": "code",
      "execution_count": null,
      "metadata": {
        "colab": {
          "base_uri": "https://localhost:8080/"
        },
        "id": "DV-rEu3nenCK",
        "outputId": "6c58cc57-e5fa-426f-b7b8-cd1bae9e4502"
      },
      "outputs": [
        {
          "name": "stdout",
          "output_type": "stream",
          "text": [
            "Collecting CocoDataset==0.1.2\n",
            "  Downloading CocoDataset-0.1.2-py3-none-any.whl (4.2 kB)\n",
            "Requirement already satisfied: pycocotools in /usr/local/lib/python3.10/dist-packages (from CocoDataset==0.1.2) (2.0.7)\n",
            "Requirement already satisfied: matplotlib>=2.1.0 in /usr/local/lib/python3.10/dist-packages (from pycocotools->CocoDataset==0.1.2) (3.7.1)\n",
            "Requirement already satisfied: numpy in /usr/local/lib/python3.10/dist-packages (from pycocotools->CocoDataset==0.1.2) (1.25.2)\n",
            "Requirement already satisfied: contourpy>=1.0.1 in /usr/local/lib/python3.10/dist-packages (from matplotlib>=2.1.0->pycocotools->CocoDataset==0.1.2) (1.2.1)\n",
            "Requirement already satisfied: cycler>=0.10 in /usr/local/lib/python3.10/dist-packages (from matplotlib>=2.1.0->pycocotools->CocoDataset==0.1.2) (0.12.1)\n",
            "Requirement already satisfied: fonttools>=4.22.0 in /usr/local/lib/python3.10/dist-packages (from matplotlib>=2.1.0->pycocotools->CocoDataset==0.1.2) (4.51.0)\n",
            "Requirement already satisfied: kiwisolver>=1.0.1 in /usr/local/lib/python3.10/dist-packages (from matplotlib>=2.1.0->pycocotools->CocoDataset==0.1.2) (1.4.5)\n",
            "Requirement already satisfied: packaging>=20.0 in /usr/local/lib/python3.10/dist-packages (from matplotlib>=2.1.0->pycocotools->CocoDataset==0.1.2) (24.0)\n",
            "Requirement already satisfied: pillow>=6.2.0 in /usr/local/lib/python3.10/dist-packages (from matplotlib>=2.1.0->pycocotools->CocoDataset==0.1.2) (9.4.0)\n",
            "Requirement already satisfied: pyparsing>=2.3.1 in /usr/local/lib/python3.10/dist-packages (from matplotlib>=2.1.0->pycocotools->CocoDataset==0.1.2) (3.1.2)\n",
            "Requirement already satisfied: python-dateutil>=2.7 in /usr/local/lib/python3.10/dist-packages (from matplotlib>=2.1.0->pycocotools->CocoDataset==0.1.2) (2.8.2)\n",
            "Requirement already satisfied: six>=1.5 in /usr/local/lib/python3.10/dist-packages (from python-dateutil>=2.7->matplotlib>=2.1.0->pycocotools->CocoDataset==0.1.2) (1.16.0)\n",
            "Installing collected packages: CocoDataset\n",
            "Successfully installed CocoDataset-0.1.2\n",
            "--2024-05-24 07:26:43--  http://images.cocodataset.org/annotations/annotations_trainval2014.zip\n",
            "Resolving images.cocodataset.org (images.cocodataset.org)... 16.182.96.193, 3.5.28.156, 3.5.0.103, ...\n",
            "Connecting to images.cocodataset.org (images.cocodataset.org)|16.182.96.193|:80... connected.\n",
            "HTTP request sent, awaiting response... 200 OK\n",
            "Length: 252872794 (241M) [application/zip]\n",
            "Saving to: ‘annotations_trainval2014.zip’\n",
            "\n",
            "annotations_trainva 100%[===================>] 241.16M  49.9MB/s    in 5.4s    \n",
            "\n",
            "2024-05-24 07:26:49 (44.8 MB/s) - ‘annotations_trainval2014.zip’ saved [252872794/252872794]\n",
            "\n",
            "Archive:  /content/annotations_trainval2014.zip\n",
            "  inflating: annotations/instances_train2014.json  \n",
            "  inflating: annotations/instances_val2014.json  \n",
            "  inflating: annotations/person_keypoints_train2014.json  \n",
            "  inflating: annotations/person_keypoints_val2014.json  \n",
            "  inflating: annotations/captions_train2014.json  \n",
            "  inflating: annotations/captions_val2014.json  \n",
            "Cloning into 'image-captioning-pytorch'...\n",
            "remote: Enumerating objects: 37, done.\u001b[K\n",
            "remote: Total 37 (delta 0), reused 0 (delta 0), pack-reused 37\u001b[K\n",
            "Receiving objects: 100% (37/37), 126.61 MiB | 23.23 MiB/s, done.\n",
            "Updating files: 100% (30/30), done.\n",
            "Requirement already satisfied: pycocotools in /usr/local/lib/python3.10/dist-packages (2.0.7)\n",
            "Requirement already satisfied: matplotlib>=2.1.0 in /usr/local/lib/python3.10/dist-packages (from pycocotools) (3.7.1)\n",
            "Requirement already satisfied: numpy in /usr/local/lib/python3.10/dist-packages (from pycocotools) (1.25.2)\n",
            "Requirement already satisfied: contourpy>=1.0.1 in /usr/local/lib/python3.10/dist-packages (from matplotlib>=2.1.0->pycocotools) (1.2.1)\n",
            "Requirement already satisfied: cycler>=0.10 in /usr/local/lib/python3.10/dist-packages (from matplotlib>=2.1.0->pycocotools) (0.12.1)\n",
            "Requirement already satisfied: fonttools>=4.22.0 in /usr/local/lib/python3.10/dist-packages (from matplotlib>=2.1.0->pycocotools) (4.51.0)\n",
            "Requirement already satisfied: kiwisolver>=1.0.1 in /usr/local/lib/python3.10/dist-packages (from matplotlib>=2.1.0->pycocotools) (1.4.5)\n",
            "Requirement already satisfied: packaging>=20.0 in /usr/local/lib/python3.10/dist-packages (from matplotlib>=2.1.0->pycocotools) (24.0)\n",
            "Requirement already satisfied: pillow>=6.2.0 in /usr/local/lib/python3.10/dist-packages (from matplotlib>=2.1.0->pycocotools) (9.4.0)\n",
            "Requirement already satisfied: pyparsing>=2.3.1 in /usr/local/lib/python3.10/dist-packages (from matplotlib>=2.1.0->pycocotools) (3.1.2)\n",
            "Requirement already satisfied: python-dateutil>=2.7 in /usr/local/lib/python3.10/dist-packages (from matplotlib>=2.1.0->pycocotools) (2.8.2)\n",
            "Requirement already satisfied: six>=1.5 in /usr/local/lib/python3.10/dist-packages (from python-dateutil>=2.7->matplotlib>=2.1.0->pycocotools) (1.16.0)\n"
          ]
        }
      ],
      "source": [
        "!pip install CocoDataset==0.1.2\n",
        "!wget http://images.cocodataset.org/annotations/annotations_trainval2014.zip\n",
        "!unzip /content/annotations_trainval2014.zip\n",
        "!git clone https://github.com/tatwan/image-captioning-pytorch.git\n",
        "!pip install pycocotools"
      ]
    },
    {
      "cell_type": "markdown",
      "source": [
        "#dataset download from kaggle"
      ],
      "metadata": {
        "id": "1dyl3yYu4mTz"
      }
    },
    {
      "cell_type": "code",
      "execution_count": null,
      "metadata": {
        "colab": {
          "background_save": true,
          "base_uri": "https://localhost:8080/"
        },
        "id": "F604Gc3nLpba",
        "outputId": "c8092c38-c977-4e9c-8555-343d270bb292"
      },
      "outputs": [
        {
          "name": "stdout",
          "output_type": "stream",
          "text": [
            "Requirement already satisfied: kaggle in /usr/local/lib/python3.10/dist-packages (1.6.14)\n",
            "Requirement already satisfied: six>=1.10 in /usr/local/lib/python3.10/dist-packages (from kaggle) (1.16.0)\n",
            "Requirement already satisfied: certifi>=2023.7.22 in /usr/local/lib/python3.10/dist-packages (from kaggle) (2024.2.2)\n",
            "Requirement already satisfied: python-dateutil in /usr/local/lib/python3.10/dist-packages (from kaggle) (2.8.2)\n",
            "Requirement already satisfied: requests in /usr/local/lib/python3.10/dist-packages (from kaggle) (2.31.0)\n",
            "Requirement already satisfied: tqdm in /usr/local/lib/python3.10/dist-packages (from kaggle) (4.66.4)\n",
            "Requirement already satisfied: python-slugify in /usr/local/lib/python3.10/dist-packages (from kaggle) (8.0.4)\n",
            "Requirement already satisfied: urllib3 in /usr/local/lib/python3.10/dist-packages (from kaggle) (2.0.7)\n",
            "Requirement already satisfied: bleach in /usr/local/lib/python3.10/dist-packages (from kaggle) (6.1.0)\n",
            "Requirement already satisfied: webencodings in /usr/local/lib/python3.10/dist-packages (from bleach->kaggle) (0.5.1)\n",
            "Requirement already satisfied: text-unidecode>=1.3 in /usr/local/lib/python3.10/dist-packages (from python-slugify->kaggle) (1.3)\n",
            "Requirement already satisfied: charset-normalizer<4,>=2 in /usr/local/lib/python3.10/dist-packages (from requests->kaggle) (3.3.2)\n",
            "Requirement already satisfied: idna<4,>=2.5 in /usr/local/lib/python3.10/dist-packages (from requests->kaggle) (3.7)\n",
            "Dataset URL: https://www.kaggle.com/datasets/jeffaudi/coco-2014-dataset-for-yolov3\n",
            "License(s): Attribution 4.0 International (CC BY 4.0)\n",
            "Downloading coco-2014-dataset-for-yolov3.zip to /content\n",
            "100% 25.0G/25.0G [05:23<00:00, 62.6MB/s]\n",
            "100% 25.0G/25.0G [05:23<00:00, 83.0MB/s]\n"
          ]
        }
      ],
      "source": [
        "!pip install kaggle\n",
        "\n",
        "import os\n",
        "\n",
        "os.environ['KAGGLE_CONFIG_DIR'] = '/content'\n",
        "\n",
        "!kaggle datasets download -d jeffaudi/coco-2014-dataset-for-yolov3"
      ]
    },
    {
      "cell_type": "code",
      "source": [
        "import zipfile\n",
        "file_path = \"/content/coco-2014-dataset-for-yolov3.zip\"\n",
        "\n",
        "with zipfile.ZipFile(file_path, 'r') as zip_ref:\n",
        "  zip_ref.extractall(\"/content\")"
      ],
      "metadata": {
        "id": "oX0a9C0phj_f"
      },
      "execution_count": null,
      "outputs": []
    },
    {
      "cell_type": "markdown",
      "source": [
        "#importing libraries"
      ],
      "metadata": {
        "id": "9v7GKQ5-4q_C"
      }
    },
    {
      "cell_type": "code",
      "execution_count": 4,
      "metadata": {
        "id": "RE0HCv2BRy1J"
      },
      "outputs": [],
      "source": [
        "\n",
        "import torch\n",
        "import torch.nn as nn\n",
        "import torchvision.models as models\n",
        "import nltk\n",
        "import pickle\n",
        "import os.path\n",
        "from pycocotools.coco import COCO\n",
        "from collections import Counter\n",
        "import os\n",
        "import sys\n",
        "import nltk\n",
        "import os\n",
        "import torch\n",
        "import torch.utils.data as data\n",
        "from PIL import Image\n",
        "from pycocotools.coco import COCO\n",
        "import numpy as np\n",
        "from tqdm import tqdm\n",
        "import random\n",
        "import json\n",
        "from torchvision import transforms\n",
        "import numpy as np\n",
        "import skimage.io as io\n",
        "import matplotlib.pyplot as plt\n",
        "%matplotlib inline"
      ]
    },
    {
      "cell_type": "code",
      "execution_count": 5,
      "metadata": {
        "id": "plxMNpXyZBQu"
      },
      "outputs": [],
      "source": [
        "\n",
        "sys.path.append('/opt/cocoapi/PythonAPI')"
      ]
    },
    {
      "cell_type": "code",
      "execution_count": 6,
      "metadata": {
        "id": "GuqCDwQ7Tklg",
        "colab": {
          "base_uri": "https://localhost:8080/"
        },
        "outputId": "7431ad62-a8d9-49d1-d5dc-f738e1bdeb57"
      },
      "outputs": [
        {
          "output_type": "stream",
          "name": "stdout",
          "text": [
            "loading annotations into memory...\n",
            "Done (t=11.13s)\n",
            "creating index...\n",
            "index created!\n",
            "loading annotations into memory...\n",
            "Done (t=0.78s)\n",
            "creating index...\n",
            "index created!\n"
          ]
        }
      ],
      "source": [
        "# initialize COCO API for instance annotations\n",
        "dataDir = '/opt/cocoapi'\n",
        "dataType = 'val2014'\n",
        "path_ins = \"/content/annotations/instances_val2014.json\"\n",
        "# instances_annFile = os.path.join(dataDir, 'annotations/instances_{}.json'.format(dataType))\n",
        "instances_annFile = os.path.join(path_ins)\n",
        "coco = COCO(instances_annFile)\n",
        "\n",
        "\n",
        "path_cap = \"/content/annotations/captions_val2014.json\"\n",
        "# initialize COCO API for caption annotations\n",
        "# captions_annFile = os.path.join(dataDir, 'annotations/captions_{}.json'.format(dataType))\n",
        "captions_annFile = os.path.join(path_cap)\n",
        "coco_caps = COCO(captions_annFile)\n",
        "\n",
        "# get image ids\n",
        "ids = list(coco.anns.keys())"
      ]
    },
    {
      "cell_type": "code",
      "execution_count": 7,
      "metadata": {
        "id": "nvY-iX8zwbnM",
        "colab": {
          "base_uri": "https://localhost:8080/"
        },
        "outputId": "b40b04d9-a9d6-48b3-88b5-1cb601023ab4"
      },
      "outputs": [
        {
          "output_type": "execute_result",
          "data": {
            "text/plain": [
              "{'segmentation': [[239.97,\n",
              "   260.24,\n",
              "   222.04,\n",
              "   270.49,\n",
              "   199.84,\n",
              "   253.41,\n",
              "   213.5,\n",
              "   227.79,\n",
              "   259.62,\n",
              "   200.46,\n",
              "   274.13,\n",
              "   202.17,\n",
              "   277.55,\n",
              "   210.71,\n",
              "   249.37,\n",
              "   253.41,\n",
              "   237.41,\n",
              "   264.51,\n",
              "   242.54,\n",
              "   261.95,\n",
              "   228.87,\n",
              "   271.34]],\n",
              " 'area': 2765.1486500000005,\n",
              " 'iscrowd': 0,\n",
              " 'image_id': 558840,\n",
              " 'bbox': [199.84, 200.46, 77.71, 70.88],\n",
              " 'category_id': 58,\n",
              " 'id': 156}"
            ]
          },
          "metadata": {},
          "execution_count": 7
        }
      ],
      "source": [
        "list(coco.anns.values())[0]"
      ]
    },
    {
      "cell_type": "code",
      "execution_count": 8,
      "metadata": {
        "id": "q2UsI4lqwbi6",
        "colab": {
          "base_uri": "https://localhost:8080/",
          "height": 510
        },
        "outputId": "190021fb-30b1-47ea-b985-f1474bf9d9fc"
      },
      "outputs": [
        {
          "output_type": "stream",
          "name": "stdout",
          "text": [
            "http://images.cocodataset.org/val2014/COCO_val2014_000000168234.jpg\n"
          ]
        },
        {
          "output_type": "display_data",
          "data": {
            "text/plain": [
              "<Figure size 640x480 with 1 Axes>"
            ],
            "image/png": "[encoded data removed]"
          },
          "metadata": {}
        },
        {
          "output_type": "stream",
          "name": "stdout",
          "text": [
            "A car and a bus are near a street light at night.\n",
            "A traffic control light has all three lights on at once\n",
            "a traffic light with red yellow and green lit up\n",
            "a traffic light with all of its light turned on \n",
            "bus and a car stopped at a traffic light\n"
          ]
        }
      ],
      "source": [
        "# pick a random image and obtain the corresponding URL\n",
        "ann_id = np.random.choice(ids)\n",
        "img_id = coco.anns[ann_id]['image_id']\n",
        "img = coco.loadImgs(img_id)[0]\n",
        "url = img['coco_url']\n",
        "\n",
        "# print URL and visualize corresponding image\n",
        "print(url)\n",
        "I = io.imread(url)\n",
        "plt.axis('off')\n",
        "plt.imshow(I)\n",
        "plt.show()\n",
        "\n",
        "# load and display captions\n",
        "annIds = coco_caps.getAnnIds(imgIds=img['id']);\n",
        "anns = coco_caps.loadAnns(annIds)\n",
        "coco_caps.showAnns(anns)"
      ]
    },
    {
      "cell_type": "markdown",
      "source": [
        "# creating vocabulary from training data for the captions\n"
      ],
      "metadata": {
        "id": "08cFCZfO44Uu"
      }
    },
    {
      "cell_type": "code",
      "execution_count": 9,
      "metadata": {
        "id": "3RGH12JUSgaH"
      },
      "outputs": [],
      "source": [
        "\n",
        "class Vocabulary(object):\n",
        "\n",
        "    def __init__(self,\n",
        "        vocab_threshold,\n",
        "        vocab_file='/content/image-captioning-pytorch/vocab.pkl',\n",
        "        start_word=\"<start>\",\n",
        "        end_word=\"<end>\",\n",
        "        unk_word=\"<unk>\",\n",
        "        annotations_file='',\n",
        "        vocab_from_file=False):\n",
        "        \"\"\"Initialize the vocabulary.\n",
        "        Args:\n",
        "          vocab_threshold: Minimum word count threshold.\n",
        "          vocab_file: File containing the vocabulary.\n",
        "          start_word: Special word denoting sentence start.\n",
        "          end_word: Special word denoting sentence end.\n",
        "          unk_word: Special word denoting unknown words.\n",
        "          annotations_file: Path for train annotation file.\n",
        "          vocab_from_file: If False, create vocab from scratch & override any existing vocab_file\n",
        "                           If True, load vocab from from existing vocab_file, if it exists\n",
        "        \"\"\"\n",
        "        self.vocab_threshold = vocab_threshold\n",
        "        self.vocab_file = vocab_file\n",
        "        self.start_word = start_word\n",
        "        self.end_word = end_word\n",
        "        self.unk_word = unk_word\n",
        "        self.annotations_file = annotations_file\n",
        "        self.vocab_from_file = vocab_from_file\n",
        "        self.get_vocab()\n",
        "\n",
        "    def get_vocab(self):\n",
        "        \"\"\"Load the vocabulary from file OR build the vocabulary from scratch.\"\"\"\n",
        "        if os.path.exists(self.vocab_file) & self.vocab_from_file:\n",
        "            with open(self.vocab_file, 'rb') as f:\n",
        "                vocab = pickle.load(f)\n",
        "                self.word2idx = vocab.word2idx\n",
        "                self.idx2word = vocab.idx2word\n",
        "            print('Vocabulary successfully loaded from vocab.pkl file!')\n",
        "        else:\n",
        "            self.build_vocab()\n",
        "            with open(self.vocab_file, 'wb') as f:\n",
        "                pickle.dump(self, f)\n",
        "\n",
        "    def build_vocab(self):\n",
        "        \"\"\"Populate the dictionaries for converting tokens to integers (and vice-versa).\"\"\"\n",
        "        self.init_vocab()\n",
        "        self.add_word(self.start_word)\n",
        "        self.add_word(self.end_word)\n",
        "        self.add_word(self.unk_word)\n",
        "        self.add_captions()\n",
        "\n",
        "    def init_vocab(self):\n",
        "        \"\"\"Initialize the dictionaries for converting tokens to integers (and vice-versa).\"\"\"\n",
        "        self.word2idx = {}\n",
        "        self.idx2word = {}\n",
        "        self.idx = 0\n",
        "\n",
        "    def add_word(self, word):\n",
        "        \"\"\"Add a token to the vocabulary.\"\"\"\n",
        "        if not word in self.word2idx:\n",
        "            self.word2idx[word] = self.idx\n",
        "            self.idx2word[self.idx] = word\n",
        "            self.idx += 1\n",
        "\n",
        "    def add_captions(self):\n",
        "        \"\"\"Loop over training captions and add all tokens to the vocabulary that meet or exceed the threshold.\"\"\"\n",
        "        coco = COCO(self.annotations_file)\n",
        "        counter = Counter()\n",
        "        ids = coco.anns.keys()\n",
        "        for i, id in enumerate(ids):\n",
        "            caption = str(coco.anns[id]['caption'])\n",
        "            tokens = nltk.tokenize.word_tokenize(caption.lower())\n",
        "            counter.update(tokens)\n",
        "\n",
        "            if i % 100000 == 0:\n",
        "                print(\"[%d/%d] Tokenizing captions...\" % (i, len(ids)))\n",
        "\n",
        "        words = [word for word, cnt in counter.items() if cnt >= self.vocab_threshold]\n",
        "\n",
        "        for i, word in enumerate(words):\n",
        "            self.add_word(word)\n",
        "\n",
        "    def __call__(self, word):\n",
        "        if not word in self.word2idx:\n",
        "            return self.word2idx[self.unk_word]\n",
        "        return self.word2idx[word]\n",
        "\n",
        "    def __len__(self):\n",
        "        return len(self.word2idx)"
      ]
    },
    {
      "cell_type": "markdown",
      "source": [
        "# get loader function for data loader->"
      ],
      "metadata": {
        "id": "XuMtogV95TPk"
      }
    },
    {
      "cell_type": "code",
      "execution_count": 41,
      "metadata": {
        "id": "G4wwRjD7R9wm"
      },
      "outputs": [],
      "source": [
        "def get_loader(transform,\n",
        "               mode='train',\n",
        "               batch_size=1,\n",
        "               vocab_threshold=None,\n",
        "               vocab_file='./vocab.pkl',\n",
        "               start_word=\"<start>\",\n",
        "               end_word=\"<end>\",\n",
        "               unk_word=\"<unk>\",\n",
        "               vocab_from_file=True,\n",
        "               num_workers=0,\n",
        "               cocoapi_loc='/opt'):\n",
        "    \"\"\"Returns the data loader.\n",
        "    Args:\n",
        "      transform: Image transform.\n",
        "      mode: One of 'train' or 'test'.\n",
        "      batch_size: Batch size (if in testing mode, must have batch_size=1).\n",
        "      vocab_threshold: Minimum word count threshold.\n",
        "      vocab_file: File containing the vocabulary.\n",
        "      start_word: Special word denoting sentence start.\n",
        "      end_word: Special word denoting sentence end.\n",
        "      unk_word: Special word denoting unknown words.\n",
        "      vocab_from_file: If False, create vocab from scratch & override any existing vocab_file.\n",
        "                       If True, load vocab from from existing vocab_file, if it exists.\n",
        "      num_workers: Number of subprocesses to use for data loading\n",
        "      cocoapi_loc: The location of the folder containing the COCO API: https://github.com/cocodataset/cocoapi\n",
        "    \"\"\"\n",
        "\n",
        "    assert mode in ['train', 'test'], \"mode must be one of 'train' or 'test'.\"\n",
        "    if vocab_from_file==False: assert mode=='train', \"To generate vocab from captions file, must be in training mode (mode='train').\"\n",
        "\n",
        "    # Based on mode (train, val, test), obtain img_folder and annotations_file.\n",
        "    if mode == 'train':\n",
        "        if vocab_from_file==True: assert os.path.exists(vocab_file), \"vocab_file does not exist.  Change vocab_from_file to False to create vocab_file.\"\n",
        "        # img_folder = os.path.join(cocoapi_loc, 'cocoapi/images/train2014/')\n",
        "        # annotations_file = os.path.join(cocoapi_loc, 'cocoapi/annotations/captions_train2014.json')\n",
        "        img_folder = os.path.join('/content/coco2014/images/train2014') #added by renu\n",
        "        annotations_file = os.path.join('/content/annotations/captions_train2014.json') # added by renu\n",
        "    if mode == 'test':\n",
        "        assert batch_size==1, \"Please change batch_size to 1 if testing your model.\"\n",
        "        assert os.path.exists(vocab_file), \"Must first generate vocab.pkl from training data.\"\n",
        "        assert vocab_from_file==True, \"Change vocab_from_file to True.\"\n",
        "        img_folder = os.path.join('/content/coco2014/images/test2014')\n",
        "        # annotations_file = os.path.join(cocoapi_loc, 'cocoapi/annotations/image_info_test2014.json')\n",
        "        annotations_file = os.path.join('/content/_test.coco.json')\n",
        "\n",
        "    # COCO caption dataset.\n",
        "    dataset = CoCoDataset(transform=transform,\n",
        "                          mode=mode,\n",
        "                          batch_size=batch_size,\n",
        "                          vocab_threshold=vocab_threshold,\n",
        "                          vocab_file=vocab_file,\n",
        "                          start_word=start_word,\n",
        "                          end_word=end_word,\n",
        "                          unk_word=unk_word,\n",
        "                          annotations_file=annotations_file,\n",
        "                          vocab_from_file=vocab_from_file,\n",
        "                          img_folder=img_folder)\n",
        "\n",
        "    if mode == 'train':\n",
        "        # Randomly sample a caption length, and sample indices with that length.\n",
        "        indices = dataset.get_train_indices()\n",
        "        # Create and assign a batch sampler to retrieve a batch with the sampled indices.\n",
        "        initial_sampler = data.sampler.SubsetRandomSampler(indices=indices)\n",
        "        # data loader for COCO dataset.\n",
        "        data_loader = data.DataLoader(dataset=dataset,\n",
        "                                      num_workers=num_workers,\n",
        "                                      batch_sampler=data.sampler.BatchSampler(sampler=initial_sampler,\n",
        "                                                                              batch_size=dataset.batch_size,\n",
        "                                                                              drop_last=False))\n",
        "    else:\n",
        "        data_loader = data.DataLoader(dataset=dataset,\n",
        "                                      batch_size=dataset.batch_size,\n",
        "                                      shuffle=True,\n",
        "                                      num_workers=num_workers)\n",
        "\n",
        "    return data_loader\n"
      ]
    },
    {
      "cell_type": "markdown",
      "source": [
        "# COCO Dataset"
      ],
      "metadata": {
        "id": "3fCFE6dx6KE9"
      }
    },
    {
      "cell_type": "code",
      "source": [
        "class CoCoDataset(data.Dataset):\n",
        "    def __init__(self, transform, mode, batch_size, vocab_threshold, vocab_file, start_word,\n",
        "        end_word, unk_word, annotations_file, vocab_from_file, img_folder):\n",
        "        self.transform = transform\n",
        "        self.mode = mode\n",
        "        self.batch_size = batch_size\n",
        "        self.vocab = Vocabulary(vocab_threshold, vocab_file, start_word,\n",
        "            end_word, unk_word, annotations_file, vocab_from_file)\n",
        "        self.img_folder = img_folder\n",
        "        if self.mode == 'train':\n",
        "            self.coco = COCO(annotations_file)\n",
        "            self.ids = list(self.coco.anns.keys())\n",
        "            print('Obtaining caption lengths...')\n",
        "            all_tokens = [nltk.tokenize.word_tokenize(str(self.coco.anns[self.ids[index]]['caption']).lower()) for index in tqdm(np.arange(len(self.ids)))]\n",
        "            self.caption_lengths = [len(token) for token in all_tokens]\n",
        "        else:\n",
        "            test_info = json.loads(open(annotations_file).read())\n",
        "            self.paths = [item['file_name'] for item in test_info['images']]\n",
        "\n",
        "    def __getitem__(self, index):\n",
        "        # obtain image and caption if in training mode\n",
        "        if self.mode == 'train':\n",
        "            ann_id = self.ids[index]\n",
        "            caption = self.coco.anns[ann_id]['caption']\n",
        "            img_id = self.coco.anns[ann_id]['image_id']\n",
        "            path = self.coco.loadImgs(img_id)[0]['file_name']\n",
        "\n",
        "            # Convert image to tensor and pre-process using transform\n",
        "            image = Image.open(os.path.join(self.img_folder, path)).convert('RGB')\n",
        "            image = self.transform(image)\n",
        "\n",
        "            # Convert caption to tensor of word ids.\n",
        "            tokens = nltk.tokenize.word_tokenize(str(caption).lower())\n",
        "            caption = []\n",
        "            caption.append(self.vocab(self.vocab.start_word))\n",
        "            caption.extend([self.vocab(token) for token in tokens])\n",
        "            caption.append(self.vocab(self.vocab.end_word))\n",
        "            caption = torch.Tensor(caption).long()\n",
        "\n",
        "            # return pre-processed image and caption tensors\n",
        "            return image, caption\n",
        "\n",
        "        # obtain image if in test mode\n",
        "        else:\n",
        "            path = self.paths[index]\n",
        "\n",
        "            # Convert image to tensor and pre-process using transform\n",
        "            PIL_image = Image.open(os.path.join(self.img_folder, path)).convert('RGB')\n",
        "            orig_image = np.array(PIL_image)\n",
        "            image = self.transform(PIL_image)\n",
        "\n",
        "            # return original image and pre-processed image tensor\n",
        "            return orig_image, image\n",
        "\n",
        "    def get_train_indices(self):\n",
        "        sel_length = np.random.choice(self.caption_lengths)\n",
        "        all_indices = np.where([self.caption_lengths[i] == sel_length for i in np.arange(len(self.caption_lengths))])[0]\n",
        "        indices = list(np.random.choice(all_indices, size=self.batch_size))\n",
        "        return indices\n",
        "\n",
        "    def __len__(self):\n",
        "        if self.mode == 'train':\n",
        "            return len(self.ids)\n",
        "        else:\n",
        "            return len(self.paths)"
      ],
      "metadata": {
        "id": "CfzyscV76I9K"
      },
      "execution_count": null,
      "outputs": []
    },
    {
      "cell_type": "code",
      "execution_count": 11,
      "metadata": {
        "id": "FYKrXWsiRoPi"
      },
      "outputs": [],
      "source": [
        "class EncoderCNN(nn.Module):\n",
        "    def __init__(self, embed_size):\n",
        "        super(EncoderCNN, self).__init__()\n",
        "        # pretrained model resnet50\n",
        "        resnet = models.resnet50(pretrained=True)\n",
        "\n",
        "        for param in resnet.parameters():\n",
        "            param.requires_grad_(False)\n",
        "\n",
        "        modules = list(resnet.children())[:-1]\n",
        "        self.resnet = nn.Sequential(*modules)\n",
        "        # replace the classifier with a fully connected embedding layer\n",
        "        self.embed = nn.Linear(resnet.fc.in_features, embed_size)\n",
        "\n",
        "    def forward(self, images):\n",
        "        features = self.resnet(images)\n",
        "        features = features.view(features.size(0), -1)\n",
        "        features = self.embed(features)\n",
        "        return features\n",
        "\n",
        "\n",
        "class DecoderRNN(nn.Module):\n",
        "    def __init__(self, embed_size, hidden_size, vocab_size, num_layers=1):\n",
        "        super(DecoderRNN, self).__init__()\n",
        "        self.embed_size = embed_size\n",
        "        self.hidden_size = hidden_size\n",
        "        self.vocab_size = vocab_size\n",
        "        self.num_layers = num_layers\n",
        "\n",
        "        self.word_embedding = nn.Embedding(self.vocab_size, self.embed_size)\n",
        "        self.lstm = nn.LSTM(self.embed_size,\n",
        "                            self.hidden_size,\n",
        "                            self.num_layers,\n",
        "                            batch_first=True)\n",
        "\n",
        "        self.fc = nn.Linear(self.hidden_size, self.vocab_size)\n",
        "#         self.hidden = (torch.zeros(1, 1, self.hidden_size), torch.zeros(1, 1, self.hidden_size))\n",
        "\n",
        "\n",
        "    def forward(self, features, captions):\n",
        "\n",
        "        caption_embed = self.word_embedding(captions[:, :-1])\n",
        "        caption_embed = torch.cat((features.unsqueeze(dim=1), caption_embed),1)\n",
        "        output, self.hidden = self.lstm(caption_embed)\n",
        "#         print(output.shape)\n",
        "        output = self.fc(output)\n",
        "#         print(self.embed_size, self.vocab_size)\n",
        "        return output\n",
        "\n",
        "    def sample(self, inputs, states=None, max_len=20):\n",
        "        \" accepts pre-processed image tensor (inputs) and returns predicted sentence (list of tensor ids of length max_len) \"\n",
        "\n",
        "        \"\"\"Samples captions for given image features.\"\"\"\n",
        "        output = []\n",
        "        (h, c) = (torch.randn(self.num_layers, 1, self.hidden_size).to(inputs.device), torch.randn(self.num_layers, 1, self.hidden_size).to(inputs.device))\n",
        "        for i in range(max_len):\n",
        "            x, (h, c) = self.lstm(inputs, (h, c))\n",
        "            x = self.fc(x)\n",
        "            x = x.squeeze(1)\n",
        "            predict = x.argmax(dim=1)\n",
        "            if predict.item() == 1:\n",
        "                break\n",
        "            output.append(predict.item())\n",
        "            inputs = self.word_embedding(predict.unsqueeze(0))\n",
        "        return output"
      ]
    },
    {
      "cell_type": "code",
      "execution_count": 12,
      "metadata": {
        "id": "KqXUyMdzSo8p",
        "colab": {
          "base_uri": "https://localhost:8080/"
        },
        "outputId": "7d90af2f-0cfe-4fc7-cb71-db7e6434dee1"
      },
      "outputs": [
        {
          "output_type": "stream",
          "name": "stdout",
          "text": [
            "Requirement already satisfied: nltk in /usr/local/lib/python3.10/dist-packages (3.8.1)\n",
            "Requirement already satisfied: click in /usr/local/lib/python3.10/dist-packages (from nltk) (8.1.7)\n",
            "Requirement already satisfied: joblib in /usr/local/lib/python3.10/dist-packages (from nltk) (1.4.2)\n",
            "Requirement already satisfied: regex>=2021.8.3 in /usr/local/lib/python3.10/dist-packages (from nltk) (2023.12.25)\n",
            "Requirement already satisfied: tqdm in /usr/local/lib/python3.10/dist-packages (from nltk) (4.66.4)\n"
          ]
        },
        {
          "output_type": "stream",
          "name": "stderr",
          "text": [
            "[nltk_data] Downloading package punkt to /root/nltk_data...\n",
            "[nltk_data]   Unzipping tokenizers/punkt.zip.\n"
          ]
        }
      ],
      "source": [
        "import sys\n",
        "sys.path.append('/opt/cocoapi/PythonAPI')\n",
        "!pip install nltk\n",
        "import nltk\n",
        "nltk.download('punkt')\n",
        "# from data_loader import get_loader\n",
        "# from torchvision import transforms\n",
        "from pycocotools.coco import COCO"
      ]
    },
    {
      "cell_type": "code",
      "execution_count": 13,
      "metadata": {
        "colab": {
          "base_uri": "https://localhost:8080/"
        },
        "id": "UTH3oSmjS5t8",
        "outputId": "5bdfc678-34c4-4d64-87e2-9051b02363d9"
      },
      "outputs": [
        {
          "output_type": "stream",
          "name": "stdout",
          "text": [
            "loading annotations into memory...\n",
            "Done (t=1.08s)\n",
            "creating index...\n",
            "index created!\n",
            "[0/414113] Tokenizing captions...\n",
            "[100000/414113] Tokenizing captions...\n",
            "[200000/414113] Tokenizing captions...\n",
            "[300000/414113] Tokenizing captions...\n",
            "[400000/414113] Tokenizing captions...\n",
            "loading annotations into memory...\n",
            "Done (t=1.30s)\n",
            "creating index...\n",
            "index created!\n",
            "Obtaining caption lengths...\n"
          ]
        },
        {
          "output_type": "stream",
          "name": "stderr",
          "text": [
            "100%|██████████| 414113/414113 [01:27<00:00, 4747.15it/s]\n"
          ]
        }
      ],
      "source": [
        "# Define a transform to pre-process the training images.\n",
        "transform_train = transforms.Compose([\n",
        "    transforms.Resize(256),                          # smaller edge of image resized to 256\n",
        "    transforms.RandomCrop(224),                      # get 224x224 crop from random location\n",
        "    transforms.RandomHorizontalFlip(),               # horizontally flip image with probability=0.5\n",
        "    transforms.ToTensor(),                           # convert the PIL Image to a tensor\n",
        "    transforms.Normalize((0.485, 0.456, 0.406),      # normalize image for pre-trained model\n",
        "                         (0.229, 0.224, 0.225))])\n",
        "\n",
        "# Set the minimum word count threshold.\n",
        "vocab_threshold = 5\n",
        "\n",
        "# Specify the batch size.\n",
        "batch_size = 10\n",
        "\n",
        "# Obtain the data loader.\n",
        "data_loader = get_loader(transform=transform_train,\n",
        "                         mode='train',\n",
        "                         batch_size=batch_size,\n",
        "                         vocab_threshold=vocab_threshold,\n",
        "                         vocab_from_file=False)"
      ]
    },
    {
      "cell_type": "code",
      "execution_count": 14,
      "metadata": {
        "colab": {
          "base_uri": "https://localhost:8080/"
        },
        "id": "811mvcfAz5GX",
        "outputId": "2823795b-d414-4c4f-eb0f-95a8e33a68b9"
      },
      "outputs": [
        {
          "output_type": "stream",
          "name": "stdout",
          "text": [
            "['a', 'person', 'doing', 'a', 'trick', 'on', 'a', 'rail', 'while', 'riding', 'a', 'skateboard', '.']\n",
            "Special start word: <start>\n",
            "[0]\n",
            "[0, 3, 98, 754, 3, 396, 39, 3, 1010, 207, 139, 3, 753, 18]\n"
          ]
        }
      ],
      "source": [
        "sample_caption = 'A person doing a trick on a rail while riding a skateboard.'\n",
        "sample_tokens = nltk.tokenize.word_tokenize(str(sample_caption).lower())\n",
        "print(sample_tokens)\n",
        "\n",
        "sample_caption = []\n",
        "\n",
        "start_word = data_loader.dataset.vocab.start_word\n",
        "print('Special start word:', start_word)\n",
        "sample_caption.append(data_loader.dataset.vocab(start_word))\n",
        "print(sample_caption)\n",
        "\n",
        "sample_caption.extend([data_loader.dataset.vocab(token) for token in sample_tokens])\n",
        "print(sample_caption)"
      ]
    },
    {
      "cell_type": "code",
      "execution_count": 15,
      "metadata": {
        "colab": {
          "base_uri": "https://localhost:8080/"
        },
        "id": "TfA_XYTr0OnH",
        "outputId": "b1df69f9-2bc4-4c7c-a6df-b4edcd96e1ad"
      },
      "outputs": [
        {
          "output_type": "stream",
          "name": "stdout",
          "text": [
            "Special end word: <end>\n",
            "[0, 3, 98, 754, 3, 396, 39, 3, 1010, 207, 139, 3, 753, 18, 1]\n",
            "tensor([   0,    3,   98,  754,    3,  396,   39,    3, 1010,  207,  139,    3,\n",
            "         753,   18,    1])\n",
            "Total number of tokens in vocabulary: 8852\n"
          ]
        }
      ],
      "source": [
        "end_word = data_loader.dataset.vocab.end_word\n",
        "print('Special end word:', end_word)\n",
        "\n",
        "sample_caption.append(data_loader.dataset.vocab(end_word))\n",
        "print(sample_caption)\n",
        "\n",
        "sample_caption = torch.Tensor(sample_caption).long()\n",
        "print(sample_caption)\n",
        "\n",
        "# Preview the word2idx dictionary.\n",
        "dict(list(data_loader.dataset.vocab.word2idx.items())[:10])\n",
        "\n",
        "# Print the total number of keys in the word2idx dictionary.\n",
        "print('Total number of tokens in vocabulary:', len(data_loader.dataset.vocab))\n",
        "\n"
      ]
    },
    {
      "cell_type": "code",
      "execution_count": null,
      "metadata": {
        "colab": {
          "base_uri": "https://localhost:8080/"
        },
        "id": "NOlHEDmq0cBg",
        "outputId": "f9078357-cb39-4777-9f36-8be28dd6f033"
      },
      "outputs": [
        {
          "name": "stdout",
          "output_type": "stream",
          "text": [
            "loading annotations into memory...\n",
            "Done (t=0.71s)\n",
            "creating index...\n",
            "index created!\n",
            "[0/414113] Tokenizing captions...\n",
            "[100000/414113] Tokenizing captions...\n",
            "[200000/414113] Tokenizing captions...\n",
            "[300000/414113] Tokenizing captions...\n",
            "[400000/414113] Tokenizing captions...\n",
            "loading annotations into memory...\n",
            "Done (t=1.20s)\n",
            "creating index...\n",
            "index created!\n",
            "Obtaining caption lengths...\n"
          ]
        },
        {
          "name": "stderr",
          "output_type": "stream",
          "text": [
            "100%|██████████| 414113/414113 [01:16<00:00, 5382.02it/s]\n"
          ]
        }
      ],
      "source": [
        "vocab_threshold = 4\n",
        "\n",
        "# Obtain the data loader.\n",
        "data_loader = get_loader(transform=transform_train,\n",
        "                         mode='train',\n",
        "                         batch_size=batch_size,\n",
        "                         vocab_threshold=vocab_threshold,\n",
        "                         vocab_from_file=False)"
      ]
    },
    {
      "cell_type": "code",
      "execution_count": null,
      "metadata": {
        "colab": {
          "base_uri": "https://localhost:8080/"
        },
        "id": "YoYtNN7Y0b-u",
        "outputId": "d2239463-13aa-4913-a6ce-f3c18880aace"
      },
      "outputs": [
        {
          "name": "stdout",
          "output_type": "stream",
          "text": [
            "Total number of tokens in vocabulary: 9947\n",
            "Special unknown word: <unk>\n",
            "All unknown words are mapped to this integer: 2\n",
            "2\n",
            "2\n",
            "Vocabulary successfully loaded from vocab.pkl file!\n",
            "loading annotations into memory...\n",
            "Done (t=0.92s)\n",
            "creating index...\n",
            "index created!\n",
            "Obtaining caption lengths...\n"
          ]
        },
        {
          "name": "stderr",
          "output_type": "stream",
          "text": [
            "100%|██████████| 414113/414113 [01:22<00:00, 5001.11it/s]\n"
          ]
        }
      ],
      "source": [
        "# Print the total number of keys in the word2idx dictionary.\n",
        "print('Total number of tokens in vocabulary:', len(data_loader.dataset.vocab))\n",
        "\n",
        "unk_word = data_loader.dataset.vocab.unk_word\n",
        "print('Special unknown word:', unk_word)\n",
        "\n",
        "print('All unknown words are mapped to this integer:', data_loader.dataset.vocab(unk_word))\n",
        "\n",
        "print(data_loader.dataset.vocab('jfkafejw'))\n",
        "print(data_loader.dataset.vocab('ieowoqjf'))\n",
        "\n",
        "# Obtain the data loader (from file). Note that it runs much faster than before!\n",
        "data_loader = get_loader(transform=transform_train,\n",
        "                         mode='train',\n",
        "                         batch_size=batch_size,\n",
        "                         vocab_from_file=True)"
      ]
    },
    {
      "cell_type": "code",
      "execution_count": null,
      "metadata": {
        "colab": {
          "base_uri": "https://localhost:8080/"
        },
        "id": "_w4j03aS0b7P",
        "outputId": "cf789e3b-c628-4d4c-92e3-fccf42ceb6c9"
      },
      "outputs": [
        {
          "name": "stdout",
          "output_type": "stream",
          "text": [
            "value: 10 --- count: 86302\n",
            "value: 11 --- count: 79971\n",
            "value:  9 --- count: 71920\n",
            "value: 12 --- count: 57653\n",
            "value: 13 --- count: 37668\n",
            "value: 14 --- count: 22342\n",
            "value:  8 --- count: 20742\n",
            "value: 15 --- count: 12839\n",
            "value: 16 --- count:  7736\n",
            "value: 17 --- count:  4845\n",
            "value: 18 --- count:  3101\n",
            "value: 19 --- count:  2017\n",
            "value:  7 --- count:  1594\n",
            "value: 20 --- count:  1453\n",
            "value: 21 --- count:   997\n",
            "value: 22 --- count:   683\n",
            "value: 23 --- count:   534\n",
            "value: 24 --- count:   384\n",
            "value: 25 --- count:   277\n",
            "value: 26 --- count:   214\n",
            "value: 27 --- count:   160\n",
            "value: 28 --- count:   114\n",
            "value: 29 --- count:    87\n",
            "value: 30 --- count:    58\n",
            "value: 31 --- count:    49\n",
            "value: 32 --- count:    44\n",
            "value: 34 --- count:    40\n",
            "value: 37 --- count:    32\n",
            "value: 35 --- count:    31\n",
            "value: 33 --- count:    30\n",
            "value: 36 --- count:    26\n",
            "value: 38 --- count:    18\n",
            "value: 39 --- count:    18\n",
            "value: 43 --- count:    16\n",
            "value: 44 --- count:    16\n",
            "value: 48 --- count:    12\n",
            "value: 45 --- count:    11\n",
            "value: 42 --- count:    10\n",
            "value: 40 --- count:     9\n",
            "value: 49 --- count:     9\n",
            "value: 46 --- count:     9\n",
            "value: 47 --- count:     7\n",
            "value: 50 --- count:     6\n",
            "value: 51 --- count:     6\n",
            "value: 41 --- count:     6\n",
            "value: 52 --- count:     5\n",
            "value: 54 --- count:     3\n",
            "value: 56 --- count:     2\n",
            "value:  6 --- count:     2\n",
            "value: 53 --- count:     2\n",
            "value: 55 --- count:     2\n",
            "value: 57 --- count:     1\n",
            "sampled indices: [307288, 226511, 200244, 70989, 89437, 403098, 159132, 312460, 180580, 257208]\n"
          ]
        }
      ],
      "source": [
        "from collections import Counter\n",
        "\n",
        "# Tally the total number of training captions with each length.\n",
        "counter = Counter(data_loader.dataset.caption_lengths)\n",
        "lengths = sorted(counter.items(), key=lambda pair: pair[1], reverse=True)\n",
        "for value, count in lengths:\n",
        "    print('value: %2d --- count: %5d' % (value, count))\n",
        "\n",
        "import numpy as np\n",
        "import torch.utils.data as data\n",
        "\n",
        "# Randomly sample a caption length, and sample indices with that length.\n",
        "indices = data_loader.dataset.get_train_indices()\n",
        "print('sampled indices:', indices)\n",
        "\n",
        "# Create and assign a batch sampler to retrieve a batch with the sampled indices.\n",
        "new_sampler = data.sampler.SubsetRandomSampler(indices=indices)\n",
        "data_loader.batch_sampler.sampler = new_sampler\n",
        "\n",
        "\n",
        "# (Optional) Uncomment the lines of code below to print the pre-processed images and captions.\n",
        "# print('images:', images)\n",
        "# print('captions:', captions)"
      ]
    },
    {
      "cell_type": "code",
      "execution_count": null,
      "metadata": {
        "colab": {
          "base_uri": "https://localhost:8080/"
        },
        "id": "hV1DGy9v6Ge0",
        "outputId": "62eb187b-0962-4091-930a-7545e18899d7"
      },
      "outputs": [
        {
          "name": "stdout",
          "output_type": "stream",
          "text": [
            "images.shape: torch.Size([10, 3, 224, 224])\n",
            "captions.shape: torch.Size([10, 14])\n"
          ]
        }
      ],
      "source": [
        "# # Obtain the batch.\n",
        "images, captions = next(iter(data_loader))\n",
        "\n",
        "print('images.shape:', images.shape)\n",
        "print('captions.shape:', captions.shape)"
      ]
    },
    {
      "cell_type": "code",
      "execution_count": null,
      "metadata": {
        "colab": {
          "base_uri": "https://localhost:8080/"
        },
        "id": "ucs3YhnF0txt",
        "outputId": "026c85a4-9821-4fe6-ba69-b51df19e717e"
      },
      "outputs": [
        {
          "data": {
            "text/plain": [
              "device(type='cpu')"
            ]
          },
          "execution_count": 20,
          "metadata": {},
          "output_type": "execute_result"
        }
      ],
      "source": [
        "# Watch for any changes in model.py, and re-load it automatically.\n",
        "# % load_ext autoreload\n",
        "# % autoreload 2\n",
        "\n",
        "device = torch.device(\"cuda\" if torch.cuda.is_available() else \"cpu\")\n",
        "device"
      ]
    },
    {
      "cell_type": "code",
      "execution_count": null,
      "metadata": {
        "colab": {
          "base_uri": "https://localhost:8080/"
        },
        "id": "4C8GOJge01x8",
        "outputId": "0c392116-e2cd-4d3c-9f1f-d86cacd636b1"
      },
      "outputs": [
        {
          "data": {
            "text/plain": [
              "torch.Size([3, 224, 224])"
            ]
          },
          "execution_count": 21,
          "metadata": {},
          "output_type": "execute_result"
        }
      ],
      "source": [
        "images[0].shape"
      ]
    },
    {
      "cell_type": "code",
      "execution_count": null,
      "metadata": {
        "colab": {
          "base_uri": "https://localhost:8080/"
        },
        "id": "begIqf_s06Gv",
        "outputId": "74703465-5926-469b-a408-c57e110a14ab"
      },
      "outputs": [
        {
          "name": "stderr",
          "output_type": "stream",
          "text": [
            "/usr/local/lib/python3.10/dist-packages/torchvision/models/_utils.py:208: UserWarning: The parameter 'pretrained' is deprecated since 0.13 and may be removed in the future, please use 'weights' instead.\n",
            "  warnings.warn(\n",
            "/usr/local/lib/python3.10/dist-packages/torchvision/models/_utils.py:223: UserWarning: Arguments other than a weight enum or `None` for 'weights' are deprecated since 0.13 and may be removed in the future. The current behavior is equivalent to passing `weights=ResNet50_Weights.IMAGENET1K_V1`. You can also use `weights=ResNet50_Weights.DEFAULT` to get the most up-to-date weights.\n",
            "  warnings.warn(msg)\n",
            "Downloading: \"https://download.pytorch.org/models/resnet50-0676ba61.pth\" to /root/.cache/torch/hub/checkpoints/resnet50-0676ba61.pth\n",
            "100%|██████████| 97.8M/97.8M [00:01<00:00, 94.6MB/s]\n"
          ]
        },
        {
          "name": "stdout",
          "output_type": "stream",
          "text": [
            "type(features): <class 'torch.Tensor'>\n",
            "features.shape: torch.Size([10, 256])\n"
          ]
        }
      ],
      "source": [
        "# Specify the dimensionality of the image embedding.\n",
        "embed_size = 256\n",
        "\n",
        "#-#-#-# Do NOT modify the code below this line. #-#-#-#\n",
        "\n",
        "# Initialize the encoder. (Optional: Add additional arguments if necessary.)\n",
        "encoder = EncoderCNN(embed_size)\n",
        "\n",
        "# Move the encoder to GPU if CUDA is available.\n",
        "encoder.to(device)\n",
        "\n",
        "# Move last batch of images (from Step 2) to GPU if CUDA is available.\n",
        "images = images.to(device)\n",
        "\n",
        "# Pass the images through the encoder.\n",
        "features = encoder(images)\n",
        "\n",
        "print('type(features):', type(features))\n",
        "print('features.shape:', features.shape)\n",
        "\n",
        "# Check that your encoder satisfies some requirements of the project! :D\n",
        "assert type(features)==torch.Tensor, \"Encoder output needs to be a PyTorch Tensor.\"\n",
        "assert (features.shape[0]==batch_size) & (features.shape[1]==embed_size), \"The shape of the encoder output is incorrect.\""
      ]
    },
    {
      "cell_type": "code",
      "execution_count": null,
      "metadata": {
        "colab": {
          "base_uri": "https://localhost:8080/"
        },
        "id": "CvYZjhXK084N",
        "outputId": "53944fec-bd62-4d81-e48d-0f2f03f50bd5"
      },
      "outputs": [
        {
          "data": {
            "text/plain": [
              "torch.Size([256])"
            ]
          },
          "execution_count": 23,
          "metadata": {},
          "output_type": "execute_result"
        }
      ],
      "source": [
        "features[0].shape"
      ]
    },
    {
      "cell_type": "code",
      "execution_count": null,
      "metadata": {
        "colab": {
          "base_uri": "https://localhost:8080/"
        },
        "id": "m-Fzu1v81BgG",
        "outputId": "d30ccab6-d02c-4b79-c5ee-dd0ffbccaaa7"
      },
      "outputs": [
        {
          "name": "stdout",
          "output_type": "stream",
          "text": [
            "type(outputs): <class 'torch.Tensor'>\n",
            "outputs.shape: torch.Size([10, 14, 9947])\n"
          ]
        }
      ],
      "source": [
        "# Specify the number of features in the hidden state of the RNN decoder.\n",
        "hidden_size = 512\n",
        "\n",
        "#-#-#-# Do NOT modify the code below this line. #-#-#-#\n",
        "\n",
        "# Store the size of the vocabulary.\n",
        "vocab_size = len(data_loader.dataset.vocab)\n",
        "\n",
        "# Initialize the decoder.\n",
        "decoder = DecoderRNN(embed_size, hidden_size, vocab_size)\n",
        "\n",
        "# Move the decoder to GPU if CUDA is available.\n",
        "decoder.to(device)\n",
        "\n",
        "# Move last batch of captions (from Step 1) to GPU if CUDA is available\n",
        "captions = captions.to(device)\n",
        "\n",
        "# Pass the encoder output and captions through the decoder.\n",
        "outputs = decoder(features, captions)\n",
        "\n",
        "print('type(outputs):', type(outputs))\n",
        "print('outputs.shape:', outputs.shape)\n",
        "\n",
        "# Check that your decoder satisfies some requirements of the project! :D\n",
        "assert type(outputs)==torch.Tensor, \"Decoder output needs to be a PyTorch Tensor.\"\n",
        "assert (outputs.shape[0]==batch_size) & (outputs.shape[1]==captions.shape[1]) & (outputs.shape[2]==vocab_size), \"The shape of the decoder output is incorrect.\""
      ]
    },
    {
      "cell_type": "markdown",
      "metadata": {
        "id": "M_H4DJsm1LFm"
      },
      "source": [
        "# part"
      ]
    },
    {
      "cell_type": "code",
      "execution_count": null,
      "metadata": {
        "colab": {
          "base_uri": "https://localhost:8080/"
        },
        "id": "JR95YYQX1Njb",
        "outputId": "884e8e05-52fb-46f5-faee-6d62e2d0ed40"
      },
      "outputs": [
        {
          "name": "stdout",
          "output_type": "stream",
          "text": [
            "Vocabulary successfully loaded from vocab.pkl file!\n",
            "loading annotations into memory...\n",
            "Done (t=2.91s)\n",
            "creating index...\n",
            "index created!\n",
            "Obtaining caption lengths...\n"
          ]
        },
        {
          "name": "stderr",
          "output_type": "stream",
          "text": [
            "100%|██████████| 414113/414113 [01:25<00:00, 4832.36it/s]\n"
          ]
        }
      ],
      "source": [
        "import torch\n",
        "import torch.nn as nn\n",
        "from torchvision import transforms\n",
        "import sys\n",
        "sys.path.append('/opt/cocoapi/PythonAPI')\n",
        "from pycocotools.coco import COCO\n",
        "# from data_loader import get_loader\n",
        "# from model import EncoderCNN, DecoderRNN\n",
        "import math\n",
        "\n",
        "\n",
        "## Select appropriate values for the Python variables below.\n",
        "batch_size = 10          # batch size\n",
        "vocab_threshold = 4        # minimum word count threshold\n",
        "vocab_from_file = True      # if True, load existing vocab file\n",
        "embed_size = 256           # dimensionality of image and word embeddings\n",
        "hidden_size = 512          # number of features in hidden state of the RNN decoder\n",
        "num_epochs = 1             # number of training epochs\n",
        "save_every = 1             # determines frequency of saving model weights\n",
        "print_every = 100          # determines window for printing average loss\n",
        "log_file = 'training_log.txt'       # name of file with saved training loss and perplexity\n",
        "\n",
        "# (Optional)  Amend the image transform below.\n",
        "transform_train = transforms.Compose([\n",
        "    transforms.Resize(256),                          # smaller edge of image resized to 256\n",
        "    transforms.RandomCrop(224),                      # get 224x224 crop from random location\n",
        "    transforms.RandomHorizontalFlip(),               # horizontally flip image with probability=0.5\n",
        "    transforms.ToTensor(),                           # convert the PIL Image to a tensor\n",
        "    transforms.Normalize((0.485, 0.456, 0.406),      # normalize image for pre-trained model\n",
        "                         (0.229, 0.224, 0.225))])\n",
        "\n",
        "# Build data loader.\n",
        "data_loader = get_loader(transform=transform_train,\n",
        "                         mode='train',\n",
        "                         batch_size=batch_size,\n",
        "                         vocab_threshold=vocab_threshold,\n",
        "                         vocab_from_file=vocab_from_file)\n",
        "\n",
        "# The size of the vocabulary.\n",
        "vocab_size = len(data_loader.dataset.vocab)\n",
        "\n",
        "# Initialize the encoder and decoder.\n",
        "encoder = EncoderCNN(embed_size)\n",
        "decoder = DecoderRNN(embed_size, hidden_size, vocab_size)\n",
        "\n",
        "# Move models to GPU if CUDA is available.\n",
        "device = torch.device(\"cuda\" if torch.cuda.is_available() else \"cpu\")\n",
        "encoder.to(device)\n",
        "decoder.to(device)\n",
        "\n",
        "# Define the loss function.\n",
        "criterion = nn.CrossEntropyLoss().cuda() if torch.cuda.is_available() else nn.CrossEntropyLoss()\n",
        "\n",
        "# Specify the learnable parameters of the model.\n",
        "params = list(decoder.parameters())+list(encoder.embed.parameters())\n",
        "\n",
        "# Define the optimizer.\n",
        "optimizer = torch.optim.Adam(params,lr=0.001)\n",
        "\n",
        "# Set the total number of training steps per epoch.\n",
        "total_step = math.ceil(len(data_loader.dataset.caption_lengths) / data_loader.batch_sampler.batch_size)"
      ]
    },
    {
      "cell_type": "code",
      "execution_count": null,
      "metadata": {
        "colab": {
          "base_uri": "https://localhost:8080/"
        },
        "id": "ZJDsNx2RWAml",
        "outputId": "b8a6a9fc-2019-4aa8-f861-941eada20242"
      },
      "outputs": [
        {
          "name": "stdout",
          "output_type": "stream",
          "text": [
            "Epoch [1/1], Step [15/41412], Loss: 5.4413, Perplexity: 230.7517\n",
            "Keep-alive request failed: HTTPSConnectionPool(host='nebula.udacity.com', port=443): Max retries exceeded with url: /api/v1/remote/keep-alive (Caused by NameResolutionError(\"<urllib3.connection.HTTPSConnection object at 0x7d2cfae178e0>: Failed to resolve 'nebula.udacity.com' ([Errno -2] Name or service not known)\"))\n",
            "Epoch [1/1], Step [31/41412], Loss: 4.5218, Perplexity: 92.0042\n",
            "Keep-alive request failed: HTTPSConnectionPool(host='nebula.udacity.com', port=443): Max retries exceeded with url: /api/v1/remote/keep-alive (Caused by NameResolutionError(\"<urllib3.connection.HTTPSConnection object at 0x7d2c332d9b70>: Failed to resolve 'nebula.udacity.com' ([Errno -2] Name or service not known)\"))\n",
            "Epoch [1/1], Step [47/41412], Loss: 4.4389, Perplexity: 84.6854\n",
            "Keep-alive request failed: HTTPSConnectionPool(host='nebula.udacity.com', port=443): Max retries exceeded with url: /api/v1/remote/keep-alive (Caused by NameResolutionError(\"<urllib3.connection.HTTPSConnection object at 0x7d2c332daef0>: Failed to resolve 'nebula.udacity.com' ([Errno -2] Name or service not known)\"))\n",
            "Epoch [1/1], Step [62/41412], Loss: 4.3177, Perplexity: 75.0165\n",
            "Keep-alive request failed: HTTPSConnectionPool(host='nebula.udacity.com', port=443): Max retries exceeded with url: /api/v1/remote/keep-alive (Caused by NameResolutionError(\"<urllib3.connection.HTTPSConnection object at 0x7d2c332d9660>: Failed to resolve 'nebula.udacity.com' ([Errno -2] Name or service not known)\"))\n",
            "Epoch [1/1], Step [73/41412], Loss: 4.3418, Perplexity: 76.8427\n",
            "Keep-alive request failed: HTTPSConnectionPool(host='nebula.udacity.com', port=443): Max retries exceeded with url: /api/v1/remote/keep-alive (Caused by NameResolutionError(\"<urllib3.connection.HTTPSConnection object at 0x7d2c332d8d90>: Failed to resolve 'nebula.udacity.com' ([Errno -2] Name or service not known)\"))\n",
            "Epoch [1/1], Step [88/41412], Loss: 4.6465, Perplexity: 104.2211\n",
            "Keep-alive request failed: HTTPSConnectionPool(host='nebula.udacity.com', port=443): Max retries exceeded with url: /api/v1/remote/keep-alive (Caused by NameResolutionError(\"<urllib3.connection.HTTPSConnection object at 0x7d2c332da9e0>: Failed to resolve 'nebula.udacity.com' ([Errno -2] Name or service not known)\"))\n",
            "Epoch [1/1], Step [100/41412], Loss: 4.1919, Perplexity: 66.1468\n",
            "Epoch [1/1], Step [103/41412], Loss: 4.9266, Perplexity: 137.9073\n",
            "Keep-alive request failed: HTTPSConnectionPool(host='nebula.udacity.com', port=443): Max retries exceeded with url: /api/v1/remote/keep-alive (Caused by NameResolutionError(\"<urllib3.connection.HTTPSConnection object at 0x7d2c332da3b0>: Failed to resolve 'nebula.udacity.com' ([Errno -2] Name or service not known)\"))\n",
            "Epoch [1/1], Step [118/41412], Loss: 4.2022, Perplexity: 66.8319\n",
            "Keep-alive request failed: HTTPSConnectionPool(host='nebula.udacity.com', port=443): Max retries exceeded with url: /api/v1/remote/keep-alive (Caused by NameResolutionError(\"<urllib3.connection.HTTPSConnection object at 0x7d2c332db880>: Failed to resolve 'nebula.udacity.com' ([Errno -2] Name or service not known)\"))\n",
            "Epoch [1/1], Step [132/41412], Loss: 4.2618, Perplexity: 70.9390\n",
            "Keep-alive request failed: HTTPSConnectionPool(host='nebula.udacity.com', port=443): Max retries exceeded with url: /api/v1/remote/keep-alive (Caused by NameResolutionError(\"<urllib3.connection.HTTPSConnection object at 0x7d2c332d9f00>: Failed to resolve 'nebula.udacity.com' ([Errno -2] Name or service not known)\"))\n",
            "Epoch [1/1], Step [147/41412], Loss: 3.8803, Perplexity: 48.4370\n",
            "Keep-alive request failed: HTTPSConnectionPool(host='nebula.udacity.com', port=443): Max retries exceeded with url: /api/v1/remote/keep-alive (Caused by NameResolutionError(\"<urllib3.connection.HTTPSConnection object at 0x7d2c332db070>: Failed to resolve 'nebula.udacity.com' ([Errno -2] Name or service not known)\"))\n",
            "Epoch [1/1], Step [162/41412], Loss: 4.7573, Perplexity: 116.4359\n",
            "Keep-alive request failed: HTTPSConnectionPool(host='nebula.udacity.com', port=443): Max retries exceeded with url: /api/v1/remote/keep-alive (Caused by NameResolutionError(\"<urllib3.connection.HTTPSConnection object at 0x7d2c332db3d0>: Failed to resolve 'nebula.udacity.com' ([Errno -2] Name or service not known)\"))\n",
            "Epoch [1/1], Step [177/41412], Loss: 3.9443, Perplexity: 51.6392\n",
            "Keep-alive request failed: HTTPSConnectionPool(host='nebula.udacity.com', port=443): Max retries exceeded with url: /api/v1/remote/keep-alive (Caused by NameResolutionError(\"<urllib3.connection.HTTPSConnection object at 0x7d2c332d9390>: Failed to resolve 'nebula.udacity.com' ([Errno -2] Name or service not known)\"))\n",
            "Epoch [1/1], Step [192/41412], Loss: 4.2221, Perplexity: 68.1744\n",
            "Keep-alive request failed: HTTPSConnectionPool(host='nebula.udacity.com', port=443): Max retries exceeded with url: /api/v1/remote/keep-alive (Caused by NameResolutionError(\"<urllib3.connection.HTTPSConnection object at 0x7d2c332d8640>: Failed to resolve 'nebula.udacity.com' ([Errno -2] Name or service not known)\"))\n",
            "Epoch [1/1], Step [200/41412], Loss: 4.3998, Perplexity: 81.4320\n",
            "Epoch [1/1], Step [208/41412], Loss: 4.0172, Perplexity: 55.5455\n",
            "Keep-alive request failed: HTTPSConnectionPool(host='nebula.udacity.com', port=443): Max retries exceeded with url: /api/v1/remote/keep-alive (Caused by NameResolutionError(\"<urllib3.connection.HTTPSConnection object at 0x7d2c332d88e0>: Failed to resolve 'nebula.udacity.com' ([Errno -2] Name or service not known)\"))\n",
            "Epoch [1/1], Step [224/41412], Loss: 3.8752, Perplexity: 48.1946\n",
            "Keep-alive request failed: HTTPSConnectionPool(host='nebula.udacity.com', port=443): Max retries exceeded with url: /api/v1/remote/keep-alive (Caused by NameResolutionError(\"<urllib3.connection.HTTPSConnection object at 0x7d2c33321720>: Failed to resolve 'nebula.udacity.com' ([Errno -2] Name or service not known)\"))\n",
            "Epoch [1/1], Step [239/41412], Loss: 3.7984, Perplexity: 44.6302\n",
            "Keep-alive request failed: HTTPSConnectionPool(host='nebula.udacity.com', port=443): Max retries exceeded with url: /api/v1/remote/keep-alive (Caused by NameResolutionError(\"<urllib3.connection.HTTPSConnection object at 0x7d2c332da650>: Failed to resolve 'nebula.udacity.com' ([Errno -2] Name or service not known)\"))\n",
            "Epoch [1/1], Step [255/41412], Loss: 3.7111, Perplexity: 40.8994\n",
            "Keep-alive request failed: HTTPSConnectionPool(host='nebula.udacity.com', port=443): Max retries exceeded with url: /api/v1/remote/keep-alive (Caused by NameResolutionError(\"<urllib3.connection.HTTPSConnection object at 0x7d2c332db2e0>: Failed to resolve 'nebula.udacity.com' ([Errno -2] Name or service not known)\"))\n",
            "Epoch [1/1], Step [270/41412], Loss: 3.6497, Perplexity: 38.4647\n",
            "Keep-alive request failed: HTTPSConnectionPool(host='nebula.udacity.com', port=443): Max retries exceeded with url: /api/v1/remote/keep-alive (Caused by NameResolutionError(\"<urllib3.connection.HTTPSConnection object at 0x7d2c332db880>: Failed to resolve 'nebula.udacity.com' ([Errno -2] Name or service not known)\"))\n",
            "Epoch [1/1], Step [284/41412], Loss: 3.9872, Perplexity: 53.9017\n",
            "Keep-alive request failed: HTTPSConnectionPool(host='nebula.udacity.com', port=443): Max retries exceeded with url: /api/v1/remote/keep-alive (Caused by NameResolutionError(\"<urllib3.connection.HTTPSConnection object at 0x7d2c332db550>: Failed to resolve 'nebula.udacity.com' ([Errno -2] Name or service not known)\"))\n",
            "Epoch [1/1], Step [299/41412], Loss: 3.8346, Perplexity: 46.2750\n",
            "Keep-alive request failed: HTTPSConnectionPool(host='nebula.udacity.com', port=443): Max retries exceeded with url: /api/v1/remote/keep-alive (Caused by NameResolutionError(\"<urllib3.connection.HTTPSConnection object at 0x7d2c332d9270>: Failed to resolve 'nebula.udacity.com' ([Errno -2] Name or service not known)\"))\n",
            "Epoch [1/1], Step [300/41412], Loss: 3.9217, Perplexity: 50.4869\n",
            "Epoch [1/1], Step [314/41412], Loss: 4.0146, Perplexity: 55.4004\n",
            "Keep-alive request failed: HTTPSConnectionPool(host='nebula.udacity.com', port=443): Max retries exceeded with url: /api/v1/remote/keep-alive (Caused by NameResolutionError(\"<urllib3.connection.HTTPSConnection object at 0x7d2c332db970>: Failed to resolve 'nebula.udacity.com' ([Errno -2] Name or service not known)\"))\n",
            "Epoch [1/1], Step [329/41412], Loss: 3.6140, Perplexity: 37.1157\n",
            "Keep-alive request failed: HTTPSConnectionPool(host='nebula.udacity.com', port=443): Max retries exceeded with url: /api/v1/remote/keep-alive (Caused by NameResolutionError(\"<urllib3.connection.HTTPSConnection object at 0x7d2c332d8c10>: Failed to resolve 'nebula.udacity.com' ([Errno -2] Name or service not known)\"))\n",
            "Epoch [1/1], Step [344/41412], Loss: 3.7616, Perplexity: 43.0180\n",
            "Keep-alive request failed: HTTPSConnectionPool(host='nebula.udacity.com', port=443): Max retries exceeded with url: /api/v1/remote/keep-alive (Caused by NameResolutionError(\"<urllib3.connection.HTTPSConnection object at 0x7d2c332da020>: Failed to resolve 'nebula.udacity.com' ([Errno -2] Name or service not known)\"))\n",
            "Epoch [1/1], Step [359/41412], Loss: 3.1486, Perplexity: 23.3042\n",
            "Keep-alive request failed: HTTPSConnectionPool(host='nebula.udacity.com', port=443): Max retries exceeded with url: /api/v1/remote/keep-alive (Caused by NameResolutionError(\"<urllib3.connection.HTTPSConnection object at 0x7d2c33321720>: Failed to resolve 'nebula.udacity.com' ([Errno -2] Name or service not known)\"))\n",
            "Epoch [1/1], Step [374/41412], Loss: 3.7666, Perplexity: 43.2342\n",
            "Keep-alive request failed: HTTPSConnectionPool(host='nebula.udacity.com', port=443): Max retries exceeded with url: /api/v1/remote/keep-alive (Caused by NameResolutionError(\"<urllib3.connection.HTTPSConnection object at 0x7d2c33486e00>: Failed to resolve 'nebula.udacity.com' ([Errno -2] Name or service not known)\"))\n",
            "Epoch [1/1], Step [389/41412], Loss: 3.8965, Perplexity: 49.2293\n",
            "Keep-alive request failed: HTTPSConnectionPool(host='nebula.udacity.com', port=443): Max retries exceeded with url: /api/v1/remote/keep-alive (Caused by NameResolutionError(\"<urllib3.connection.HTTPSConnection object at 0x7d2c332d9db0>: Failed to resolve 'nebula.udacity.com' ([Errno -2] Name or service not known)\"))\n",
            "Epoch [1/1], Step [400/41412], Loss: 4.1329, Perplexity: 62.3604\n",
            "Epoch [1/1], Step [405/41412], Loss: 4.3148, Perplexity: 74.7966\n",
            "Keep-alive request failed: HTTPSConnectionPool(host='nebula.udacity.com', port=443): Max retries exceeded with url: /api/v1/remote/keep-alive (Caused by NameResolutionError(\"<urllib3.connection.HTTPSConnection object at 0x7d2c332d9c60>: Failed to resolve 'nebula.udacity.com' ([Errno -2] Name or service not known)\"))\n",
            "Epoch [1/1], Step [421/41412], Loss: 4.4559, Perplexity: 86.1356\n",
            "Keep-alive request failed: HTTPSConnectionPool(host='nebula.udacity.com', port=443): Max retries exceeded with url: /api/v1/remote/keep-alive (Caused by NameResolutionError(\"<urllib3.connection.HTTPSConnection object at 0x7d2c332dada0>: Failed to resolve 'nebula.udacity.com' ([Errno -2] Name or service not known)\"))\n",
            "Epoch [1/1], Step [435/41412], Loss: 3.3033, Perplexity: 27.2026\n",
            "Keep-alive request failed: HTTPSConnectionPool(host='nebula.udacity.com', port=443): Max retries exceeded with url: /api/v1/remote/keep-alive (Caused by NameResolutionError(\"<urllib3.connection.HTTPSConnection object at 0x7d2c332db430>: Failed to resolve 'nebula.udacity.com' ([Errno -2] Name or service not known)\"))\n",
            "Epoch [1/1], Step [451/41412], Loss: 3.5167, Perplexity: 33.6742\n",
            "Keep-alive request failed: HTTPSConnectionPool(host='nebula.udacity.com', port=443): Max retries exceeded with url: /api/v1/remote/keep-alive (Caused by NameResolutionError(\"<urllib3.connection.HTTPSConnection object at 0x7d2c33486200>: Failed to resolve 'nebula.udacity.com' ([Errno -2] Name or service not known)\"))\n",
            "Epoch [1/1], Step [466/41412], Loss: 3.1546, Perplexity: 23.4430\n",
            "Keep-alive request failed: HTTPSConnectionPool(host='nebula.udacity.com', port=443): Max retries exceeded with url: /api/v1/remote/keep-alive (Caused by NameResolutionError(\"<urllib3.connection.HTTPSConnection object at 0x7d2c332dbb20>: Failed to resolve 'nebula.udacity.com' ([Errno -2] Name or service not known)\"))\n",
            "Epoch [1/1], Step [482/41412], Loss: 3.4414, Perplexity: 31.2296\n",
            "Keep-alive request failed: HTTPSConnectionPool(host='nebula.udacity.com', port=443): Max retries exceeded with url: /api/v1/remote/keep-alive (Caused by NameResolutionError(\"<urllib3.connection.HTTPSConnection object at 0x7d2c332dbbe0>: Failed to resolve 'nebula.udacity.com' ([Errno -2] Name or service not known)\"))\n",
            "Epoch [1/1], Step [498/41412], Loss: 3.5602, Perplexity: 35.1703\n",
            "Keep-alive request failed: HTTPSConnectionPool(host='nebula.udacity.com', port=443): Max retries exceeded with url: /api/v1/remote/keep-alive (Caused by NameResolutionError(\"<urllib3.connection.HTTPSConnection object at 0x7d2c332d9e70>: Failed to resolve 'nebula.udacity.com' ([Errno -2] Name or service not known)\"))\n",
            "Epoch [1/1], Step [500/41412], Loss: 4.0467, Perplexity: 57.2079\n",
            "Epoch [1/1], Step [514/41412], Loss: 3.5644, Perplexity: 35.3175\n",
            "Keep-alive request failed: HTTPSConnectionPool(host='nebula.udacity.com', port=443): Max retries exceeded with url: /api/v1/remote/keep-alive (Caused by NameResolutionError(\"<urllib3.connection.HTTPSConnection object at 0x7d2cfae17910>: Failed to resolve 'nebula.udacity.com' ([Errno -2] Name or service not known)\"))\n",
            "Epoch [1/1], Step [529/41412], Loss: 3.4906, Perplexity: 32.8062\n",
            "Keep-alive request failed: HTTPSConnectionPool(host='nebula.udacity.com', port=443): Max retries exceeded with url: /api/v1/remote/keep-alive (Caused by NameResolutionError(\"<urllib3.connection.HTTPSConnection object at 0x7d2c33486e90>: Failed to resolve 'nebula.udacity.com' ([Errno -2] Name or service not known)\"))\n",
            "Epoch [1/1], Step [545/41412], Loss: 3.6265, Perplexity: 37.5821\n",
            "Keep-alive request failed: HTTPSConnectionPool(host='nebula.udacity.com', port=443): Max retries exceeded with url: /api/v1/remote/keep-alive (Caused by NameResolutionError(\"<urllib3.connection.HTTPSConnection object at 0x7d2c3334fa30>: Failed to resolve 'nebula.udacity.com' ([Errno -2] Name or service not known)\"))\n",
            "Epoch [1/1], Step [561/41412], Loss: 3.3372, Perplexity: 28.1395\n",
            "Keep-alive request failed: HTTPSConnectionPool(host='nebula.udacity.com', port=443): Max retries exceeded with url: /api/v1/remote/keep-alive (Caused by NameResolutionError(\"<urllib3.connection.HTTPSConnection object at 0x7d2c4007fca0>: Failed to resolve 'nebula.udacity.com' ([Errno -2] Name or service not known)\"))\n",
            "Epoch [1/1], Step [577/41412], Loss: 3.7613, Perplexity: 43.0026\n",
            "Keep-alive request failed: HTTPSConnectionPool(host='nebula.udacity.com', port=443): Max retries exceeded with url: /api/v1/remote/keep-alive (Caused by NameResolutionError(\"<urllib3.connection.HTTPSConnection object at 0x7d2c33486e90>: Failed to resolve 'nebula.udacity.com' ([Errno -2] Name or service not known)\"))\n",
            "Epoch [1/1], Step [591/41412], Loss: 3.8747, Perplexity: 48.1690\n",
            "Keep-alive request failed: HTTPSConnectionPool(host='nebula.udacity.com', port=443): Max retries exceeded with url: /api/v1/remote/keep-alive (Caused by NameResolutionError(\"<urllib3.connection.HTTPSConnection object at 0x7d2c332db580>: Failed to resolve 'nebula.udacity.com' ([Errno -2] Name or service not known)\"))\n",
            "Epoch [1/1], Step [600/41412], Loss: 3.7495, Perplexity: 42.4990\n",
            "Epoch [1/1], Step [607/41412], Loss: 3.5946, Perplexity: 36.4009\n",
            "Keep-alive request failed: HTTPSConnectionPool(host='nebula.udacity.com', port=443): Max retries exceeded with url: /api/v1/remote/keep-alive (Caused by NameResolutionError(\"<urllib3.connection.HTTPSConnection object at 0x7d2c332da020>: Failed to resolve 'nebula.udacity.com' ([Errno -2] Name or service not known)\"))\n",
            "Epoch [1/1], Step [622/41412], Loss: 4.0588, Perplexity: 57.9069\n",
            "Keep-alive request failed: HTTPSConnectionPool(host='nebula.udacity.com', port=443): Max retries exceeded with url: /api/v1/remote/keep-alive (Caused by NameResolutionError(\"<urllib3.connection.HTTPSConnection object at 0x7d2c332d8f40>: Failed to resolve 'nebula.udacity.com' ([Errno -2] Name or service not known)\"))\n",
            "Epoch [1/1], Step [637/41412], Loss: 3.1237, Perplexity: 22.7312\n",
            "Keep-alive request failed: HTTPSConnectionPool(host='nebula.udacity.com', port=443): Max retries exceeded with url: /api/v1/remote/keep-alive (Caused by NameResolutionError(\"<urllib3.connection.HTTPSConnection object at 0x7d2c334867a0>: Failed to resolve 'nebula.udacity.com' ([Errno -2] Name or service not known)\"))\n",
            "Epoch [1/1], Step [652/41412], Loss: 3.2102, Perplexity: 24.7850\n",
            "Keep-alive request failed: HTTPSConnectionPool(host='nebula.udacity.com', port=443): Max retries exceeded with url: /api/v1/remote/keep-alive (Caused by NameResolutionError(\"<urllib3.connection.HTTPSConnection object at 0x7d2c33487610>: Failed to resolve 'nebula.udacity.com' ([Errno -2] Name or service not known)\"))\n",
            "Epoch [1/1], Step [667/41412], Loss: 3.7941, Perplexity: 44.4391\n",
            "Keep-alive request failed: HTTPSConnectionPool(host='nebula.udacity.com', port=443): Max retries exceeded with url: /api/v1/remote/keep-alive (Caused by NameResolutionError(\"<urllib3.connection.HTTPSConnection object at 0x7d2cfae17880>: Failed to resolve 'nebula.udacity.com' ([Errno -2] Name or service not known)\"))\n",
            "Epoch [1/1], Step [682/41412], Loss: 3.9457, Perplexity: 51.7148\n",
            "Keep-alive request failed: HTTPSConnectionPool(host='nebula.udacity.com', port=443): Max retries exceeded with url: /api/v1/remote/keep-alive (Caused by NameResolutionError(\"<urllib3.connection.HTTPSConnection object at 0x7d2c332da380>: Failed to resolve 'nebula.udacity.com' ([Errno -2] Name or service not known)\"))\n",
            "Epoch [1/1], Step [697/41412], Loss: 3.2833, Perplexity: 26.6641\n",
            "Keep-alive request failed: HTTPSConnectionPool(host='nebula.udacity.com', port=443): Max retries exceeded with url: /api/v1/remote/keep-alive (Caused by NameResolutionError(\"<urllib3.connection.HTTPSConnection object at 0x7d2c332d91e0>: Failed to resolve 'nebula.udacity.com' ([Errno -2] Name or service not known)\"))\n",
            "Epoch [1/1], Step [700/41412], Loss: 3.3427, Perplexity: 28.2953\n",
            "Epoch [1/1], Step [712/41412], Loss: 2.5747, Perplexity: 13.1269\n",
            "Keep-alive request failed: HTTPSConnectionPool(host='nebula.udacity.com', port=443): Max retries exceeded with url: /api/v1/remote/keep-alive (Caused by NameResolutionError(\"<urllib3.connection.HTTPSConnection object at 0x7d2c3334ecb0>: Failed to resolve 'nebula.udacity.com' ([Errno -2] Name or service not known)\"))\n",
            "Epoch [1/1], Step [727/41412], Loss: 3.2332, Perplexity: 25.3597\n",
            "Keep-alive request failed: HTTPSConnectionPool(host='nebula.udacity.com', port=443): Max retries exceeded with url: /api/v1/remote/keep-alive (Caused by NameResolutionError(\"<urllib3.connection.HTTPSConnection object at 0x7d2c4007ec50>: Failed to resolve 'nebula.udacity.com' ([Errno -2] Name or service not known)\"))\n",
            "Epoch [1/1], Step [739/41412], Loss: 3.6779, Perplexity: 39.5639\n",
            "Keep-alive request failed: HTTPSConnectionPool(host='nebula.udacity.com', port=443): Max retries exceeded with url: /api/v1/remote/keep-alive (Caused by NameResolutionError(\"<urllib3.connection.HTTPSConnection object at 0x7d2c332db880>: Failed to resolve 'nebula.udacity.com' ([Errno -2] Name or service not known)\"))\n",
            "Epoch [1/1], Step [754/41412], Loss: 3.5931, Perplexity: 36.3467\n",
            "Keep-alive request failed: HTTPSConnectionPool(host='nebula.udacity.com', port=443): Max retries exceeded with url: /api/v1/remote/keep-alive (Caused by NameResolutionError(\"<urllib3.connection.HTTPSConnection object at 0x7d2c332d8d30>: Failed to resolve 'nebula.udacity.com' ([Errno -2] Name or service not known)\"))\n",
            "Epoch [1/1], Step [769/41412], Loss: 3.3441, Perplexity: 28.3347\n",
            "Keep-alive request failed: HTTPSConnectionPool(host='nebula.udacity.com', port=443): Max retries exceeded with url: /api/v1/remote/keep-alive (Caused by NameResolutionError(\"<urllib3.connection.HTTPSConnection object at 0x7d2c332d8ee0>: Failed to resolve 'nebula.udacity.com' ([Errno -2] Name or service not known)\"))\n",
            "Epoch [1/1], Step [784/41412], Loss: 3.1212, Perplexity: 22.6736\n",
            "Keep-alive request failed: HTTPSConnectionPool(host='nebula.udacity.com', port=443): Max retries exceeded with url: /api/v1/remote/keep-alive (Caused by NameResolutionError(\"<urllib3.connection.HTTPSConnection object at 0x7d2c33487b50>: Failed to resolve 'nebula.udacity.com' ([Errno -2] Name or service not known)\"))\n",
            "Epoch [1/1], Step [799/41412], Loss: 3.1162, Perplexity: 22.5613\n",
            "Keep-alive request failed: HTTPSConnectionPool(host='nebula.udacity.com', port=443): Max retries exceeded with url: /api/v1/remote/keep-alive (Caused by NameResolutionError(\"<urllib3.connection.HTTPSConnection object at 0x7d2c332db970>: Failed to resolve 'nebula.udacity.com' ([Errno -2] Name or service not known)\"))\n",
            "Epoch [1/1], Step [800/41412], Loss: 3.2538, Perplexity: 25.8894\n",
            "Epoch [1/1], Step [815/41412], Loss: 3.4499, Perplexity: 31.4966\n",
            "Keep-alive request failed: HTTPSConnectionPool(host='nebula.udacity.com', port=443): Max retries exceeded with url: /api/v1/remote/keep-alive (Caused by NameResolutionError(\"<urllib3.connection.HTTPSConnection object at 0x7d2c332da380>: Failed to resolve 'nebula.udacity.com' ([Errno -2] Name or service not known)\"))\n",
            "Epoch [1/1], Step [830/41412], Loss: 3.4245, Perplexity: 30.7081\n",
            "Keep-alive request failed: HTTPSConnectionPool(host='nebula.udacity.com', port=443): Max retries exceeded with url: /api/v1/remote/keep-alive (Caused by NameResolutionError(\"<urllib3.connection.HTTPSConnection object at 0x7d2c332d91e0>: Failed to resolve 'nebula.udacity.com' ([Errno -2] Name or service not known)\"))\n",
            "Epoch [1/1], Step [845/41412], Loss: 3.5072, Perplexity: 33.3560\n",
            "Keep-alive request failed: HTTPSConnectionPool(host='nebula.udacity.com', port=443): Max retries exceeded with url: /api/v1/remote/keep-alive (Caused by NameResolutionError(\"<urllib3.connection.HTTPSConnection object at 0x7d2c4007ec50>: Failed to resolve 'nebula.udacity.com' ([Errno -2] Name or service not known)\"))\n",
            "Epoch [1/1], Step [860/41412], Loss: 3.0443, Perplexity: 20.9956\n",
            "Keep-alive request failed: HTTPSConnectionPool(host='nebula.udacity.com', port=443): Max retries exceeded with url: /api/v1/remote/keep-alive (Caused by NameResolutionError(\"<urllib3.connection.HTTPSConnection object at 0x7d2cfae17af0>: Failed to resolve 'nebula.udacity.com' ([Errno -2] Name or service not known)\"))\n",
            "Epoch [1/1], Step [876/41412], Loss: 2.8874, Perplexity: 17.9470\n",
            "Keep-alive request failed: HTTPSConnectionPool(host='nebula.udacity.com', port=443): Max retries exceeded with url: /api/v1/remote/keep-alive (Caused by NameResolutionError(\"<urllib3.connection.HTTPSConnection object at 0x7d2c3334da80>: Failed to resolve 'nebula.udacity.com' ([Errno -2] Name or service not known)\"))\n",
            "Epoch [1/1], Step [890/41412], Loss: 2.6945, Perplexity: 14.7976\n",
            "Keep-alive request failed: HTTPSConnectionPool(host='nebula.udacity.com', port=443): Max retries exceeded with url: /api/v1/remote/keep-alive (Caused by NameResolutionError(\"<urllib3.connection.HTTPSConnection object at 0x7d2c4007ed70>: Failed to resolve 'nebula.udacity.com' ([Errno -2] Name or service not known)\"))\n",
            "Epoch [1/1], Step [900/41412], Loss: 3.0917, Perplexity: 22.0142\n",
            "Epoch [1/1], Step [906/41412], Loss: 3.2996, Perplexity: 27.1025\n",
            "Keep-alive request failed: HTTPSConnectionPool(host='nebula.udacity.com', port=443): Max retries exceeded with url: /api/v1/remote/keep-alive (Caused by NameResolutionError(\"<urllib3.connection.HTTPSConnection object at 0x7d2c33486650>: Failed to resolve 'nebula.udacity.com' ([Errno -2] Name or service not known)\"))\n",
            "Epoch [1/1], Step [921/41412], Loss: 3.5682, Perplexity: 35.4528\n",
            "Keep-alive request failed: HTTPSConnectionPool(host='nebula.udacity.com', port=443): Max retries exceeded with url: /api/v1/remote/keep-alive (Caused by NameResolutionError(\"<urllib3.connection.HTTPSConnection object at 0x7d2c332da980>: Failed to resolve 'nebula.udacity.com' ([Errno -2] Name or service not known)\"))\n",
            "Epoch [1/1], Step [937/41412], Loss: 3.7318, Perplexity: 41.7521\n",
            "Keep-alive request failed: HTTPSConnectionPool(host='nebula.udacity.com', port=443): Max retries exceeded with url: /api/v1/remote/keep-alive (Caused by NameResolutionError(\"<urllib3.connection.HTTPSConnection object at 0x7d2c332da620>: Failed to resolve 'nebula.udacity.com' ([Errno -2] Name or service not known)\"))\n",
            "Epoch [1/1], Step [952/41412], Loss: 3.2073, Perplexity: 24.7119\n",
            "Keep-alive request failed: HTTPSConnectionPool(host='nebula.udacity.com', port=443): Max retries exceeded with url: /api/v1/remote/keep-alive (Caused by NameResolutionError(\"<urllib3.connection.HTTPSConnection object at 0x7d2c332db700>: Failed to resolve 'nebula.udacity.com' ([Errno -2] Name or service not known)\"))\n",
            "Epoch [1/1], Step [966/41412], Loss: 3.2737, Perplexity: 26.4083\n",
            "Keep-alive request failed: HTTPSConnectionPool(host='nebula.udacity.com', port=443): Max retries exceeded with url: /api/v1/remote/keep-alive (Caused by NameResolutionError(\"<urllib3.connection.HTTPSConnection object at 0x7d2c334872e0>: Failed to resolve 'nebula.udacity.com' ([Errno -2] Name or service not known)\"))\n",
            "Epoch [1/1], Step [981/41412], Loss: 2.7418, Perplexity: 15.5155\n",
            "Keep-alive request failed: HTTPSConnectionPool(host='nebula.udacity.com', port=443): Max retries exceeded with url: /api/v1/remote/keep-alive (Caused by NameResolutionError(\"<urllib3.connection.HTTPSConnection object at 0x7d2c33486e90>: Failed to resolve 'nebula.udacity.com' ([Errno -2] Name or service not known)\"))\n",
            "Epoch [1/1], Step [996/41412], Loss: 2.9375, Perplexity: 18.8693\n",
            "Keep-alive request failed: HTTPSConnectionPool(host='nebula.udacity.com', port=443): Max retries exceeded with url: /api/v1/remote/keep-alive (Caused by NameResolutionError(\"<urllib3.connection.HTTPSConnection object at 0x7d2cfae16b90>: Failed to resolve 'nebula.udacity.com' ([Errno -2] Name or service not known)\"))\n",
            "Epoch [1/1], Step [1000/41412], Loss: 3.4619, Perplexity: 31.8776\n",
            "Epoch [1/1], Step [1011/41412], Loss: 3.3590, Perplexity: 28.7617\n",
            "Keep-alive request failed: HTTPSConnectionPool(host='nebula.udacity.com', port=443): Max retries exceeded with url: /api/v1/remote/keep-alive (Caused by NameResolutionError(\"<urllib3.connection.HTTPSConnection object at 0x7d2c332d9780>: Failed to resolve 'nebula.udacity.com' ([Errno -2] Name or service not known)\"))\n",
            "Epoch [1/1], Step [1026/41412], Loss: 3.2684, Perplexity: 26.2682\n",
            "Keep-alive request failed: HTTPSConnectionPool(host='nebula.udacity.com', port=443): Max retries exceeded with url: /api/v1/remote/keep-alive (Caused by NameResolutionError(\"<urllib3.connection.HTTPSConnection object at 0x7d2c332d9210>: Failed to resolve 'nebula.udacity.com' ([Errno -2] Name or service not known)\"))\n",
            "Epoch [1/1], Step [1039/41412], Loss: 3.1333, Perplexity: 22.9495\n",
            "Keep-alive request failed: HTTPSConnectionPool(host='nebula.udacity.com', port=443): Max retries exceeded with url: /api/v1/remote/keep-alive (Caused by NameResolutionError(\"<urllib3.connection.HTTPSConnection object at 0x7d2c3334e500>: Failed to resolve 'nebula.udacity.com' ([Errno -2] Name or service not known)\"))\n",
            "Epoch [1/1], Step [1054/41412], Loss: 2.8107, Perplexity: 16.6218\n",
            "Keep-alive request failed: HTTPSConnectionPool(host='nebula.udacity.com', port=443): Max retries exceeded with url: /api/v1/remote/keep-alive (Caused by NameResolutionError(\"<urllib3.connection.HTTPSConnection object at 0x7d2c4007ec50>: Failed to resolve 'nebula.udacity.com' ([Errno -2] Name or service not known)\"))\n",
            "Epoch [1/1], Step [1068/41412], Loss: 3.3793, Perplexity: 29.3514\n",
            "Keep-alive request failed: HTTPSConnectionPool(host='nebula.udacity.com', port=443): Max retries exceeded with url: /api/v1/remote/keep-alive (Caused by NameResolutionError(\"<urllib3.connection.HTTPSConnection object at 0x7d2c332da380>: Failed to resolve 'nebula.udacity.com' ([Errno -2] Name or service not known)\"))\n",
            "Epoch [1/1], Step [1081/41412], Loss: 3.3102, Perplexity: 27.3909\n",
            "Keep-alive request failed: HTTPSConnectionPool(host='nebula.udacity.com', port=443): Max retries exceeded with url: /api/v1/remote/keep-alive (Caused by NameResolutionError(\"<urllib3.connection.HTTPSConnection object at 0x7d2c332db2b0>: Failed to resolve 'nebula.udacity.com' ([Errno -2] Name or service not known)\"))\n",
            "Epoch [1/1], Step [1095/41412], Loss: 3.3419, Perplexity: 28.2731\n",
            "Keep-alive request failed: HTTPSConnectionPool(host='nebula.udacity.com', port=443): Max retries exceeded with url: /api/v1/remote/keep-alive (Caused by NameResolutionError(\"<urllib3.connection.HTTPSConnection object at 0x7d2c332d81c0>: Failed to resolve 'nebula.udacity.com' ([Errno -2] Name or service not known)\"))\n",
            "Epoch [1/1], Step [1100/41412], Loss: 3.7709, Perplexity: 43.4185\n",
            "Epoch [1/1], Step [1110/41412], Loss: 2.7731, Perplexity: 16.0077\n",
            "Keep-alive request failed: HTTPSConnectionPool(host='nebula.udacity.com', port=443): Max retries exceeded with url: /api/v1/remote/keep-alive (Caused by NameResolutionError(\"<urllib3.connection.HTTPSConnection object at 0x7d2c33486e00>: Failed to resolve 'nebula.udacity.com' ([Errno -2] Name or service not known)\"))\n",
            "Epoch [1/1], Step [1125/41412], Loss: 3.0008, Perplexity: 20.1016\n",
            "Keep-alive request failed: HTTPSConnectionPool(host='nebula.udacity.com', port=443): Max retries exceeded with url: /api/v1/remote/keep-alive (Caused by NameResolutionError(\"<urllib3.connection.HTTPSConnection object at 0x7d2c332d8c40>: Failed to resolve 'nebula.udacity.com' ([Errno -2] Name or service not known)\"))\n",
            "Epoch [1/1], Step [1140/41412], Loss: 3.4912, Perplexity: 32.8257\n",
            "Keep-alive request failed: HTTPSConnectionPool(host='nebula.udacity.com', port=443): Max retries exceeded with url: /api/v1/remote/keep-alive (Caused by NameResolutionError(\"<urllib3.connection.HTTPSConnection object at 0x7d2c332da470>: Failed to resolve 'nebula.udacity.com' ([Errno -2] Name or service not known)\"))\n",
            "Epoch [1/1], Step [1155/41412], Loss: 3.1283, Perplexity: 22.8353\n",
            "Keep-alive request failed: HTTPSConnectionPool(host='nebula.udacity.com', port=443): Max retries exceeded with url: /api/v1/remote/keep-alive (Caused by NameResolutionError(\"<urllib3.connection.HTTPSConnection object at 0x7d2c332d8b20>: Failed to resolve 'nebula.udacity.com' ([Errno -2] Name or service not known)\"))\n",
            "Epoch [1/1], Step [1170/41412], Loss: 3.0805, Perplexity: 21.7683\n",
            "Keep-alive request failed: HTTPSConnectionPool(host='nebula.udacity.com', port=443): Max retries exceeded with url: /api/v1/remote/keep-alive (Caused by NameResolutionError(\"<urllib3.connection.HTTPSConnection object at 0x7d2c4007ea10>: Failed to resolve 'nebula.udacity.com' ([Errno -2] Name or service not known)\"))\n",
            "Epoch [1/1], Step [1184/41412], Loss: 3.1324, Perplexity: 22.9280\n",
            "Keep-alive request failed: HTTPSConnectionPool(host='nebula.udacity.com', port=443): Max retries exceeded with url: /api/v1/remote/keep-alive (Caused by NameResolutionError(\"<urllib3.connection.HTTPSConnection object at 0x7d2c33487130>: Failed to resolve 'nebula.udacity.com' ([Errno -2] Name or service not known)\"))\n",
            "Epoch [1/1], Step [1200/41412], Loss: 3.0876, Perplexity: 21.9237\n",
            "\n",
            "Keep-alive request failed: HTTPSConnectionPool(host='nebula.udacity.com', port=443): Max retries exceeded with url: /api/v1/remote/keep-alive (Caused by NameResolutionError(\"<urllib3.connection.HTTPSConnection object at 0x7d2c3334cd60>: Failed to resolve 'nebula.udacity.com' ([Errno -2] Name or service not known)\"))\n",
            "Epoch [1/1], Step [1216/41412], Loss: 3.6070, Perplexity: 36.8562\n",
            "Keep-alive request failed: HTTPSConnectionPool(host='nebula.udacity.com', port=443): Max retries exceeded with url: /api/v1/remote/keep-alive (Caused by NameResolutionError(\"<urllib3.connection.HTTPSConnection object at 0x7d2c4007fb50>: Failed to resolve 'nebula.udacity.com' ([Errno -2] Name or service not known)\"))\n",
            "Epoch [1/1], Step [1232/41412], Loss: 3.0870, Perplexity: 21.9123\n",
            "Keep-alive request failed: HTTPSConnectionPool(host='nebula.udacity.com', port=443): Max retries exceeded with url: /api/v1/remote/keep-alive (Caused by NameResolutionError(\"<urllib3.connection.HTTPSConnection object at 0x7d2c33487a30>: Failed to resolve 'nebula.udacity.com' ([Errno -2] Name or service not known)\"))\n",
            "Epoch [1/1], Step [1248/41412], Loss: 3.2711, Perplexity: 26.3395\n",
            "Keep-alive request failed: HTTPSConnectionPool(host='nebula.udacity.com', port=443): Max retries exceeded with url: /api/v1/remote/keep-alive (Caused by NameResolutionError(\"<urllib3.connection.HTTPSConnection object at 0x7d2c332daf50>: Failed to resolve 'nebula.udacity.com' ([Errno -2] Name or service not known)\"))\n",
            "Epoch [1/1], Step [1264/41412], Loss: 2.8994, Perplexity: 18.1628\n",
            "Keep-alive request failed: HTTPSConnectionPool(host='nebula.udacity.com', port=443): Max retries exceeded with url: /api/v1/remote/keep-alive (Caused by NameResolutionError(\"<urllib3.connection.HTTPSConnection object at 0x7d2c332d99f0>: Failed to resolve 'nebula.udacity.com' ([Errno -2] Name or service not known)\"))\n",
            "Epoch [1/1], Step [1279/41412], Loss: 3.2253, Perplexity: 25.1615\n",
            "Keep-alive request failed: HTTPSConnectionPool(host='nebula.udacity.com', port=443): Max retries exceeded with url: /api/v1/remote/keep-alive (Caused by NameResolutionError(\"<urllib3.connection.HTTPSConnection object at 0x7d2c332dabf0>: Failed to resolve 'nebula.udacity.com' ([Errno -2] Name or service not known)\"))\n",
            "Epoch [1/1], Step [1295/41412], Loss: 2.8183, Perplexity: 16.7485\n",
            "Keep-alive request failed: HTTPSConnectionPool(host='nebula.udacity.com', port=443): Max retries exceeded with url: /api/v1/remote/keep-alive (Caused by NameResolutionError(\"<urllib3.connection.HTTPSConnection object at 0x7d2c33486dd0>: Failed to resolve 'nebula.udacity.com' ([Errno -2] Name or service not known)\"))\n",
            "Epoch [1/1], Step [1300/41412], Loss: 3.4666, Perplexity: 32.0270\n",
            "Epoch [1/1], Step [1311/41412], Loss: 2.5492, Perplexity: 12.7964\n",
            "Keep-alive request failed: HTTPSConnectionPool(host='nebula.udacity.com', port=443): Max retries exceeded with url: /api/v1/remote/keep-alive (Caused by NameResolutionError(\"<urllib3.connection.HTTPSConnection object at 0x7d2c334870d0>: Failed to resolve 'nebula.udacity.com' ([Errno -2] Name or service not known)\"))\n",
            "Epoch [1/1], Step [1326/41412], Loss: 2.7574, Perplexity: 15.7581\n",
            "Keep-alive request failed: HTTPSConnectionPool(host='nebula.udacity.com', port=443): Max retries exceeded with url: /api/v1/remote/keep-alive (Caused by NameResolutionError(\"<urllib3.connection.HTTPSConnection object at 0x7d2cfae16ad0>: Failed to resolve 'nebula.udacity.com' ([Errno -2] Name or service not known)\"))\n",
            "Epoch [1/1], Step [1339/41412], Loss: 2.4607, Perplexity: 11.7135\n",
            "Keep-alive request failed: HTTPSConnectionPool(host='nebula.udacity.com', port=443): Max retries exceeded with url: /api/v1/remote/keep-alive (Caused by NameResolutionError(\"<urllib3.connection.HTTPSConnection object at 0x7d2c332dbd60>: Failed to resolve 'nebula.udacity.com' ([Errno -2] Name or service not known)\"))\n",
            "Epoch [1/1], Step [1354/41412], Loss: 3.6916, Perplexity: 40.1099\n",
            "Keep-alive request failed: HTTPSConnectionPool(host='nebula.udacity.com', port=443): Max retries exceeded with url: /api/v1/remote/keep-alive (Caused by NameResolutionError(\"<urllib3.connection.HTTPSConnection object at 0x7d2c332db3a0>: Failed to resolve 'nebula.udacity.com' ([Errno -2] Name or service not known)\"))\n",
            "Epoch [1/1], Step [1369/41412], Loss: 2.7747, Perplexity: 16.0333\n",
            "Keep-alive request failed: HTTPSConnectionPool(host='nebula.udacity.com', port=443): Max retries exceeded with url: /api/v1/remote/keep-alive (Caused by NameResolutionError(\"<urllib3.connection.HTTPSConnection object at 0x7d2c332db100>: Failed to resolve 'nebula.udacity.com' ([Errno -2] Name or service not known)\"))\n",
            "Epoch [1/1], Step [1384/41412], Loss: 3.3797, Perplexity: 29.3613\n",
            "Keep-alive request failed: HTTPSConnectionPool(host='nebula.udacity.com', port=443): Max retries exceeded with url: /api/v1/remote/keep-alive (Caused by NameResolutionError(\"<urllib3.connection.HTTPSConnection object at 0x7d2c4007e9e0>: Failed to resolve 'nebula.udacity.com' ([Errno -2] Name or service not known)\"))\n",
            "Epoch [1/1], Step [1399/41412], Loss: 3.2455, Perplexity: 25.6743\n",
            "Keep-alive request failed: HTTPSConnectionPool(host='nebula.udacity.com', port=443): Max retries exceeded with url: /api/v1/remote/keep-alive (Caused by NameResolutionError(\"<urllib3.connection.HTTPSConnection object at 0x7d2c334864a0>: Failed to resolve 'nebula.udacity.com' ([Errno -2] Name or service not known)\"))\n",
            "Epoch [1/1], Step [1400/41412], Loss: 2.7291, Perplexity: 15.3186\n",
            "Epoch [1/1], Step [1412/41412], Loss: 3.4743, Perplexity: 32.2741\n",
            "Keep-alive request failed: HTTPSConnectionPool(host='nebula.udacity.com', port=443): Max retries exceeded with url: /api/v1/remote/keep-alive (Caused by NameResolutionError(\"<urllib3.connection.HTTPSConnection object at 0x7d2c332d8b50>: Failed to resolve 'nebula.udacity.com' ([Errno -2] Name or service not known)\"))\n",
            "Epoch [1/1], Step [1424/41412], Loss: 3.3511, Perplexity: 28.5334\n",
            "Keep-alive request failed: HTTPSConnectionPool(host='nebula.udacity.com', port=443): Max retries exceeded with url: /api/v1/remote/keep-alive (Caused by NameResolutionError(\"<urllib3.connection.HTTPSConnection object at 0x7d2c332d8b20>: Failed to resolve 'nebula.udacity.com' ([Errno -2] Name or service not known)\"))\n",
            "Epoch [1/1], Step [1438/41412], Loss: 3.4759, Perplexity: 32.3264\n",
            "Keep-alive request failed: HTTPSConnectionPool(host='nebula.udacity.com', port=443): Max retries exceeded with url: /api/v1/remote/keep-alive (Caused by NameResolutionError(\"<urllib3.connection.HTTPSConnection object at 0x7d2c332d90c0>: Failed to resolve 'nebula.udacity.com' ([Errno -2] Name or service not known)\"))\n",
            "Epoch [1/1], Step [1453/41412], Loss: 3.3980, Perplexity: 29.9043\n",
            "Keep-alive request failed: HTTPSConnectionPool(host='nebula.udacity.com', port=443): Max retries exceeded with url: /api/v1/remote/keep-alive (Caused by NameResolutionError(\"<urllib3.connection.HTTPSConnection object at 0x7d2c33487130>: Failed to resolve 'nebula.udacity.com' ([Errno -2] Name or service not known)\"))\n",
            "Epoch [1/1], Step [1468/41412], Loss: 3.0022, Perplexity: 20.1301\n",
            "Keep-alive request failed: HTTPSConnectionPool(host='nebula.udacity.com', port=443): Max retries exceeded with url: /api/v1/remote/keep-alive (Caused by NameResolutionError(\"<urllib3.connection.HTTPSConnection object at 0x7d2c334862f0>: Failed to resolve 'nebula.udacity.com' ([Errno -2] Name or service not known)\"))\n",
            "Epoch [1/1], Step [1481/41412], Loss: 3.1485, Perplexity: 23.3020\n",
            "Keep-alive request failed: HTTPSConnectionPool(host='nebula.udacity.com', port=443): Max retries exceeded with url: /api/v1/remote/keep-alive (Caused by NameResolutionError(\"<urllib3.connection.HTTPSConnection object at 0x7d2cfae17670>: Failed to resolve 'nebula.udacity.com' ([Errno -2] Name or service not known)\"))\n",
            "Epoch [1/1], Step [1495/41412], Loss: 3.0449, Perplexity: 21.0089\n",
            "Keep-alive request failed: HTTPSConnectionPool(host='nebula.udacity.com', port=443): Max retries exceeded with url: /api/v1/remote/keep-alive (Caused by NameResolutionError(\"<urllib3.connection.HTTPSConnection object at 0x7d2c332da560>: Failed to resolve 'nebula.udacity.com' ([Errno -2] Name or service not known)\"))\n",
            "Epoch [1/1], Step [1500/41412], Loss: 3.5242, Perplexity: 33.9265\n",
            "Epoch [1/1], Step [1510/41412], Loss: 2.5161, Perplexity: 12.3807\n",
            "Keep-alive request failed: HTTPSConnectionPool(host='nebula.udacity.com', port=443): Max retries exceeded with url: /api/v1/remote/keep-alive (Caused by NameResolutionError(\"<urllib3.connection.HTTPSConnection object at 0x7d2c332d8370>: Failed to resolve 'nebula.udacity.com' ([Errno -2] Name or service not known)\"))\n",
            "Epoch [1/1], Step [1525/41412], Loss: 3.1730, Perplexity: 23.8780\n",
            "Keep-alive request failed: HTTPSConnectionPool(host='nebula.udacity.com', port=443): Max retries exceeded with url: /api/v1/remote/keep-alive (Caused by NameResolutionError(\"<urllib3.connection.HTTPSConnection object at 0x7d2c332db6a0>: Failed to resolve 'nebula.udacity.com' ([Errno -2] Name or service not known)\"))\n",
            "Epoch [1/1], Step [1540/41412], Loss: 2.9360, Perplexity: 18.8412\n",
            "Keep-alive request failed: HTTPSConnectionPool(host='nebula.udacity.com', port=443): Max retries exceeded with url: /api/v1/remote/keep-alive (Caused by NameResolutionError(\"<urllib3.connection.HTTPSConnection object at 0x7d2c4007fca0>: Failed to resolve 'nebula.udacity.com' ([Errno -2] Name or service not known)\"))\n",
            "Epoch [1/1], Step [1555/41412], Loss: 3.7128, Perplexity: 40.9693\n",
            "Keep-alive request failed: HTTPSConnectionPool(host='nebula.udacity.com', port=443): Max retries exceeded with url: /api/v1/remote/keep-alive (Caused by NameResolutionError(\"<urllib3.connection.HTTPSConnection object at 0x7d2c33486c50>: Failed to resolve 'nebula.udacity.com' ([Errno -2] Name or service not known)\"))\n",
            "Epoch [1/1], Step [1570/41412], Loss: 3.8439, Perplexity: 46.7054\n",
            "Keep-alive request failed: HTTPSConnectionPool(host='nebula.udacity.com', port=443): Max retries exceeded with url: /api/v1/remote/keep-alive (Caused by NameResolutionError(\"<urllib3.connection.HTTPSConnection object at 0x7d2c332dada0>: Failed to resolve 'nebula.udacity.com' ([Errno -2] Name or service not known)\"))\n",
            "Epoch [1/1], Step [1585/41412], Loss: 3.8913, Perplexity: 48.9750\n",
            "Keep-alive request failed: HTTPSConnectionPool(host='nebula.udacity.com', port=443): Max retries exceeded with url: /api/v1/remote/keep-alive (Caused by NameResolutionError(\"<urllib3.connection.HTTPSConnection object at 0x7d2c332da530>: Failed to resolve 'nebula.udacity.com' ([Errno -2] Name or service not known)\"))\n",
            "Epoch [1/1], Step [1600/41412], Loss: 2.9805, Perplexity: 19.6969\n",
            "\n",
            "Keep-alive request failed: HTTPSConnectionPool(host='nebula.udacity.com', port=443): Max retries exceeded with url: /api/v1/remote/keep-alive (Caused by NameResolutionError(\"<urllib3.connection.HTTPSConnection object at 0x7d2c332d8d60>: Failed to resolve 'nebula.udacity.com' ([Errno -2] Name or service not known)\"))\n",
            "Epoch [1/1], Step [1615/41412], Loss: 3.0615, Perplexity: 21.3598\n",
            "Keep-alive request failed: HTTPSConnectionPool(host='nebula.udacity.com', port=443): Max retries exceeded with url: /api/v1/remote/keep-alive (Caused by NameResolutionError(\"<urllib3.connection.HTTPSConnection object at 0x7d2c33486a40>: Failed to resolve 'nebula.udacity.com' ([Errno -2] Name or service not known)\"))\n",
            "Epoch [1/1], Step [1628/41412], Loss: 3.2586, Perplexity: 26.0140\n",
            "Keep-alive request failed: HTTPSConnectionPool(host='nebula.udacity.com', port=443): Max retries exceeded with url: /api/v1/remote/keep-alive (Caused by NameResolutionError(\"<urllib3.connection.HTTPSConnection object at 0x7d2c33486170>: Failed to resolve 'nebula.udacity.com' ([Errno -2] Name or service not known)\"))\n",
            "Epoch [1/1], Step [1643/41412], Loss: 2.9711, Perplexity: 19.5134\n",
            "Keep-alive request failed: HTTPSConnectionPool(host='nebula.udacity.com', port=443): Max retries exceeded with url: /api/v1/remote/keep-alive (Caused by NameResolutionError(\"<urllib3.connection.HTTPSConnection object at 0x7d2cfae16ad0>: Failed to resolve 'nebula.udacity.com' ([Errno -2] Name or service not known)\"))\n",
            "Epoch [1/1], Step [1658/41412], Loss: 2.9422, Perplexity: 18.9568\n",
            "Keep-alive request failed: HTTPSConnectionPool(host='nebula.udacity.com', port=443): Max retries exceeded with url: /api/v1/remote/keep-alive (Caused by NameResolutionError(\"<urllib3.connection.HTTPSConnection object at 0x7d2c332d91e0>: Failed to resolve 'nebula.udacity.com' ([Errno -2] Name or service not known)\"))\n",
            "Epoch [1/1], Step [1673/41412], Loss: 2.9547, Perplexity: 19.1969\n",
            "Keep-alive request failed: HTTPSConnectionPool(host='nebula.udacity.com', port=443): Max retries exceeded with url: /api/v1/remote/keep-alive (Caused by NameResolutionError(\"<urllib3.connection.HTTPSConnection object at 0x7d2c332da200>: Failed to resolve 'nebula.udacity.com' ([Errno -2] Name or service not known)\"))\n",
            "Epoch [1/1], Step [1688/41412], Loss: 3.0607, Perplexity: 21.3424\n",
            "Keep-alive request failed: HTTPSConnectionPool(host='nebula.udacity.com', port=443): Max retries exceeded with url: /api/v1/remote/keep-alive (Caused by NameResolutionError(\"<urllib3.connection.HTTPSConnection object at 0x7d2c332d8910>: Failed to resolve 'nebula.udacity.com' ([Errno -2] Name or service not known)\"))\n",
            "Epoch [1/1], Step [1700/41412], Loss: 2.4321, Perplexity: 11.3826\n",
            "Epoch [1/1], Step [1703/41412], Loss: 3.2664, Perplexity: 26.2180\n",
            "Keep-alive request failed: HTTPSConnectionPool(host='nebula.udacity.com', port=443): Max retries exceeded with url: /api/v1/remote/keep-alive (Caused by NameResolutionError(\"<urllib3.connection.HTTPSConnection object at 0x7d2c33320790>: Failed to resolve 'nebula.udacity.com' ([Errno -2] Name or service not known)\"))\n",
            "Epoch [1/1], Step [1718/41412], Loss: 2.4664, Perplexity: 11.7797\n",
            "Keep-alive request failed: HTTPSConnectionPool(host='nebula.udacity.com', port=443): Max retries exceeded with url: /api/v1/remote/keep-alive (Caused by NameResolutionError(\"<urllib3.connection.HTTPSConnection object at 0x7d2c334864d0>: Failed to resolve 'nebula.udacity.com' ([Errno -2] Name or service not known)\"))\n",
            "Epoch [1/1], Step [1733/41412], Loss: 3.0217, Perplexity: 20.5266\n",
            "Keep-alive request failed: HTTPSConnectionPool(host='nebula.udacity.com', port=443): Max retries exceeded with url: /api/v1/remote/keep-alive (Caused by NameResolutionError(\"<urllib3.connection.HTTPSConnection object at 0x7d2c33487fa0>: Failed to resolve 'nebula.udacity.com' ([Errno -2] Name or service not known)\"))\n",
            "Epoch [1/1], Step [1748/41412], Loss: 2.6035, Perplexity: 13.5112\n",
            "Keep-alive request failed: HTTPSConnectionPool(host='nebula.udacity.com', port=443): Max retries exceeded with url: /api/v1/remote/keep-alive (Caused by NameResolutionError(\"<urllib3.connection.HTTPSConnection object at 0x7d2c332d8f40>: Failed to resolve 'nebula.udacity.com' ([Errno -2] Name or service not known)\"))\n",
            "Epoch [1/1], Step [1763/41412], Loss: 2.6379, Perplexity: 13.9842\n",
            "Keep-alive request failed: HTTPSConnectionPool(host='nebula.udacity.com', port=443): Max retries exceeded with url: /api/v1/remote/keep-alive (Caused by NameResolutionError(\"<urllib3.connection.HTTPSConnection object at 0x7d2c332db2e0>: Failed to resolve 'nebula.udacity.com' ([Errno -2] Name or service not known)\"))\n",
            "Epoch [1/1], Step [1777/41412], Loss: 2.5501, Perplexity: 12.8084\n",
            "Keep-alive request failed: HTTPSConnectionPool(host='nebula.udacity.com', port=443): Max retries exceeded with url: /api/v1/remote/keep-alive (Caused by NameResolutionError(\"<urllib3.connection.HTTPSConnection object at 0x7d2c33487280>: Failed to resolve 'nebula.udacity.com' ([Errno -2] Name or service not known)\"))\n",
            "Epoch [1/1], Step [1793/41412], Loss: 3.6879, Perplexity: 39.9595\n",
            "Keep-alive request failed: HTTPSConnectionPool(host='nebula.udacity.com', port=443): Max retries exceeded with url: /api/v1/remote/keep-alive (Caused by NameResolutionError(\"<urllib3.connection.HTTPSConnection object at 0x7d2c33486710>: Failed to resolve 'nebula.udacity.com' ([Errno -2] Name or service not known)\"))\n",
            "Epoch [1/1], Step [1800/41412], Loss: 4.1894, Perplexity: 65.9820\n",
            "Epoch [1/1], Step [1809/41412], Loss: 2.7872, Perplexity: 16.2362\n",
            "Keep-alive request failed: HTTPSConnectionPool(host='nebula.udacity.com', port=443): Max retries exceeded with url: /api/v1/remote/keep-alive (Caused by NameResolutionError(\"<urllib3.connection.HTTPSConnection object at 0x7d2cfae177f0>: Failed to resolve 'nebula.udacity.com' ([Errno -2] Name or service not known)\"))\n",
            "Epoch [1/1], Step [1825/41412], Loss: 3.1092, Perplexity: 22.4042\n",
            "Keep-alive request failed: HTTPSConnectionPool(host='nebula.udacity.com', port=443): Max retries exceeded with url: /api/v1/remote/keep-alive (Caused by NameResolutionError(\"<urllib3.connection.HTTPSConnection object at 0x7d2c332dab90>: Failed to resolve 'nebula.udacity.com' ([Errno -2] Name or service not known)\"))\n",
            "Epoch [1/1], Step [1841/41412], Loss: 3.2706, Perplexity: 26.3267\n",
            "Keep-alive request failed: HTTPSConnectionPool(host='nebula.udacity.com', port=443): Max retries exceeded with url: /api/v1/remote/keep-alive (Caused by NameResolutionError(\"<urllib3.connection.HTTPSConnection object at 0x7d2c332db0d0>: Failed to resolve 'nebula.udacity.com' ([Errno -2] Name or service not known)\"))\n",
            "Epoch [1/1], Step [1857/41412], Loss: 3.1291, Perplexity: 22.8542\n",
            "Keep-alive request failed: HTTPSConnectionPool(host='nebula.udacity.com', port=443): Max retries exceeded with url: /api/v1/remote/keep-alive (Caused by NameResolutionError(\"<urllib3.connection.HTTPSConnection object at 0x7d2c332daf50>: Failed to resolve 'nebula.udacity.com' ([Errno -2] Name or service not known)\"))\n",
            "Epoch [1/1], Step [1873/41412], Loss: 3.1642, Perplexity: 23.6698\n",
            "Keep-alive request failed: HTTPSConnectionPool(host='nebula.udacity.com', port=443): Max retries exceeded with url: /api/v1/remote/keep-alive (Caused by NameResolutionError(\"<urllib3.connection.HTTPSConnection object at 0x7d2c4007ea10>: Failed to resolve 'nebula.udacity.com' ([Errno -2] Name or service not known)\"))\n",
            "Epoch [1/1], Step [1889/41412], Loss: 3.5357, Perplexity: 34.3187\n",
            "Keep-alive request failed: HTTPSConnectionPool(host='nebula.udacity.com', port=443): Max retries exceeded with url: /api/v1/remote/keep-alive (Caused by NameResolutionError(\"<urllib3.connection.HTTPSConnection object at 0x7d2c334877c0>: Failed to resolve 'nebula.udacity.com' ([Errno -2] Name or service not known)\"))\n",
            "Epoch [1/1], Step [1900/41412], Loss: 3.3143, Perplexity: 27.5033\n",
            "Epoch [1/1], Step [1905/41412], Loss: 2.6858, Perplexity: 14.6701\n",
            "Keep-alive request failed: HTTPSConnectionPool(host='nebula.udacity.com', port=443): Max retries exceeded with url: /api/v1/remote/keep-alive (Caused by NameResolutionError(\"<urllib3.connection.HTTPSConnection object at 0x7d2c332da6e0>: Failed to resolve 'nebula.udacity.com' ([Errno -2] Name or service not known)\"))\n",
            "Epoch [1/1], Step [1921/41412], Loss: 2.8335, Perplexity: 17.0051\n",
            "Keep-alive request failed: HTTPSConnectionPool(host='nebula.udacity.com', port=443): Max retries exceeded with url: /api/v1/remote/keep-alive (Caused by NameResolutionError(\"<urllib3.connection.HTTPSConnection object at 0x7d2c332d98a0>: Failed to resolve 'nebula.udacity.com' ([Errno -2] Name or service not known)\"))\n",
            "Epoch [1/1], Step [1935/41412], Loss: 2.9606, Perplexity: 19.3091\n",
            "Keep-alive request failed: HTTPSConnectionPool(host='nebula.udacity.com', port=443): Max retries exceeded with url: /api/v1/remote/keep-alive (Caused by NameResolutionError(\"<urllib3.connection.HTTPSConnection object at 0x7d2c332daef0>: Failed to resolve 'nebula.udacity.com' ([Errno -2] Name or service not known)\"))\n",
            "Epoch [1/1], Step [1951/41412], Loss: 2.6438, Perplexity: 14.0662\n",
            "Keep-alive request failed: HTTPSConnectionPool(host='nebula.udacity.com', port=443): Max retries exceeded with url: /api/v1/remote/keep-alive (Caused by NameResolutionError(\"<urllib3.connection.HTTPSConnection object at 0x7d2c334875e0>: Failed to resolve 'nebula.udacity.com' ([Errno -2] Name or service not known)\"))\n",
            "Epoch [1/1], Step [1967/41412], Loss: 2.4135, Perplexity: 11.1731\n",
            "Keep-alive request failed: HTTPSConnectionPool(host='nebula.udacity.com', port=443): Max retries exceeded with url: /api/v1/remote/keep-alive (Caused by NameResolutionError(\"<urllib3.connection.HTTPSConnection object at 0x7d2c33487dc0>: Failed to resolve 'nebula.udacity.com' ([Errno -2] Name or service not known)\"))\n",
            "Epoch [1/1], Step [1983/41412], Loss: 3.2775, Perplexity: 26.5096\n",
            "Keep-alive request failed: HTTPSConnectionPool(host='nebula.udacity.com', port=443): Max retries exceeded with url: /api/v1/remote/keep-alive (Caused by NameResolutionError(\"<urllib3.connection.HTTPSConnection object at 0x7d2cfae16770>: Failed to resolve 'nebula.udacity.com' ([Errno -2] Name or service not known)\"))\n",
            "Epoch [1/1], Step [1999/41412], Loss: 3.4535, Perplexity: 31.6112\n",
            "Keep-alive request failed: HTTPSConnectionPool(host='nebula.udacity.com', port=443): Max retries exceeded with url: /api/v1/remote/keep-alive (Caused by NameResolutionError(\"<urllib3.connection.HTTPSConnection object at 0x7d2c332d9c60>: Failed to resolve 'nebula.udacity.com' ([Errno -2] Name or service not known)\"))\n",
            "Epoch [1/1], Step [2000/41412], Loss: 2.7585, Perplexity: 15.7764\n",
            "Epoch [1/1], Step [2013/41412], Loss: 2.8415, Perplexity: 17.1410\n",
            "Keep-alive request failed: HTTPSConnectionPool(host='nebula.udacity.com', port=443): Max retries exceeded with url: /api/v1/remote/keep-alive (Caused by NameResolutionError(\"<urllib3.connection.HTTPSConnection object at 0x7d2c332d9db0>: Failed to resolve 'nebula.udacity.com' ([Errno -2] Name or service not known)\"))\n",
            "Epoch [1/1], Step [2027/41412], Loss: 3.0060, Perplexity: 20.2057\n",
            "Keep-alive request failed: HTTPSConnectionPool(host='nebula.udacity.com', port=443): Max retries exceeded with url: /api/v1/remote/keep-alive (Caused by NameResolutionError(\"<urllib3.connection.HTTPSConnection object at 0x7d2c332db3d0>: Failed to resolve 'nebula.udacity.com' ([Errno -2] Name or service not known)\"))\n",
            "Epoch [1/1], Step [2041/41412], Loss: 2.6120, Perplexity: 13.6262\n",
            "Keep-alive request failed: HTTPSConnectionPool(host='nebula.udacity.com', port=443): Max retries exceeded with url: /api/v1/remote/keep-alive (Caused by NameResolutionError(\"<urllib3.connection.HTTPSConnection object at 0x7d2c4007eef0>: Failed to resolve 'nebula.udacity.com' ([Errno -2] Name or service not known)\"))\n",
            "Epoch [1/1], Step [2055/41412], Loss: 3.2429, Perplexity: 25.6070\n",
            "Keep-alive request failed: HTTPSConnectionPool(host='nebula.udacity.com', port=443): Max retries exceeded with url: /api/v1/remote/keep-alive (Caused by NameResolutionError(\"<urllib3.connection.HTTPSConnection object at 0x7d2c33486e90>: Failed to resolve 'nebula.udacity.com' ([Errno -2] Name or service not known)\"))\n",
            "Epoch [1/1], Step [2069/41412], Loss: 2.5615, Perplexity: 12.9549\n",
            "Keep-alive request failed: HTTPSConnectionPool(host='nebula.udacity.com', port=443): Max retries exceeded with url: /api/v1/remote/keep-alive (Caused by NameResolutionError(\"<urllib3.connection.HTTPSConnection object at 0x7d2c332d9e70>: Failed to resolve 'nebula.udacity.com' ([Errno -2] Name or service not known)\"))\n",
            "Epoch [1/1], Step [2082/41412], Loss: 3.0403, Perplexity: 20.9116\n",
            "Keep-alive request failed: HTTPSConnectionPool(host='nebula.udacity.com', port=443): Max retries exceeded with url: /api/v1/remote/keep-alive (Caused by NameResolutionError(\"<urllib3.connection.HTTPSConnection object at 0x7d2c332dbd60>: Failed to resolve 'nebula.udacity.com' ([Errno -2] Name or service not known)\"))\n",
            "Epoch [1/1], Step [2096/41412], Loss: 2.6555, Perplexity: 14.2321\n",
            "Keep-alive request failed: HTTPSConnectionPool(host='nebula.udacity.com', port=443): Max retries exceeded with url: /api/v1/remote/keep-alive (Caused by NameResolutionError(\"<urllib3.connection.HTTPSConnection object at 0x7d2c332d8e20>: Failed to resolve 'nebula.udacity.com' ([Errno -2] Name or service not known)\"))\n",
            "Epoch [1/1], Step [2100/41412], Loss: 3.3506, Perplexity: 28.5193\n",
            "Epoch [1/1], Step [2110/41412], Loss: 2.7219, Perplexity: 15.2096\n",
            "Keep-alive request failed: HTTPSConnectionPool(host='nebula.udacity.com', port=443): Max retries exceeded with url: /api/v1/remote/keep-alive (Caused by NameResolutionError(\"<urllib3.connection.HTTPSConnection object at 0x7d2c33486650>: Failed to resolve 'nebula.udacity.com' ([Errno -2] Name or service not known)\"))\n",
            "Epoch [1/1], Step [2124/41412], Loss: 2.9060, Perplexity: 18.2836\n",
            "Keep-alive request failed: HTTPSConnectionPool(host='nebula.udacity.com', port=443): Max retries exceeded with url: /api/v1/remote/keep-alive (Caused by NameResolutionError(\"<urllib3.connection.HTTPSConnection object at 0x7d2c334869e0>: Failed to resolve 'nebula.udacity.com' ([Errno -2] Name or service not known)\"))\n",
            "Epoch [1/1], Step [2138/41412], Loss: 3.5156, Perplexity: 33.6356\n",
            "Keep-alive request failed: HTTPSConnectionPool(host='nebula.udacity.com', port=443): Max retries exceeded with url: /api/v1/remote/keep-alive (Caused by NameResolutionError(\"<urllib3.connection.HTTPSConnection object at 0x7d2cfae16a70>: Failed to resolve 'nebula.udacity.com' ([Errno -2] Name or service not known)\"))\n",
            "Epoch [1/1], Step [2152/41412], Loss: 3.2225, Perplexity: 25.0901\n",
            "Keep-alive request failed: HTTPSConnectionPool(host='nebula.udacity.com', port=443): Max retries exceeded with url: /api/v1/remote/keep-alive (Caused by NameResolutionError(\"<urllib3.connection.HTTPSConnection object at 0x7d2c332da980>: Failed to resolve 'nebula.udacity.com' ([Errno -2] Name or service not known)\"))\n",
            "Epoch [1/1], Step [2166/41412], Loss: 3.5087, Perplexity: 33.4062\n",
            "Keep-alive request failed: HTTPSConnectionPool(host='nebula.udacity.com', port=443): Max retries exceeded with url: /api/v1/remote/keep-alive (Caused by NameResolutionError(\"<urllib3.connection.HTTPSConnection object at 0x7d2c332db820>: Failed to resolve 'nebula.udacity.com' ([Errno -2] Name or service not known)\"))\n",
            "Epoch [1/1], Step [2180/41412], Loss: 2.2386, Perplexity: 9.3801\n",
            "Keep-alive request failed: HTTPSConnectionPool(host='nebula.udacity.com', port=443): Max retries exceeded with url: /api/v1/remote/keep-alive (Caused by NameResolutionError(\"<urllib3.connection.HTTPSConnection object at 0x7d2c332db5b0>: Failed to resolve 'nebula.udacity.com' ([Errno -2] Name or service not known)\"))\n",
            "Epoch [1/1], Step [2194/41412], Loss: 2.9517, Perplexity: 19.1394\n",
            "Keep-alive request failed: HTTPSConnectionPool(host='nebula.udacity.com', port=443): Max retries exceeded with url: /api/v1/remote/keep-alive (Caused by NameResolutionError(\"<urllib3.connection.HTTPSConnection object at 0x7d2c4007f310>: Failed to resolve 'nebula.udacity.com' ([Errno -2] Name or service not known)\"))\n",
            "Epoch [1/1], Step [2200/41412], Loss: 2.9206, Perplexity: 18.5523\n",
            "Epoch [1/1], Step [2209/41412], Loss: 2.6595, Perplexity: 14.2895\n",
            "Keep-alive request failed: HTTPSConnectionPool(host='nebula.udacity.com', port=443): Max retries exceeded with url: /api/v1/remote/keep-alive (Caused by NameResolutionError(\"<urllib3.connection.HTTPSConnection object at 0x7d2c334864a0>: Failed to resolve 'nebula.udacity.com' ([Errno -2] Name or service not known)\"))\n",
            "Epoch [1/1], Step [2222/41412], Loss: 3.6087, Perplexity: 36.9162\n",
            "Keep-alive request failed: HTTPSConnectionPool(host='nebula.udacity.com', port=443): Max retries exceeded with url: /api/v1/remote/keep-alive (Caused by NameResolutionError(\"<urllib3.connection.HTTPSConnection object at 0x7d2c332dab90>: Failed to resolve 'nebula.udacity.com' ([Errno -2] Name or service not known)\"))\n",
            "Epoch [1/1], Step [2236/41412], Loss: 3.2273, Perplexity: 25.2106\n",
            "Keep-alive request failed: HTTPSConnectionPool(host='nebula.udacity.com', port=443): Max retries exceeded with url: /api/v1/remote/keep-alive (Caused by NameResolutionError(\"<urllib3.connection.HTTPSConnection object at 0x7d2c332da7a0>: Failed to resolve 'nebula.udacity.com' ([Errno -2] Name or service not known)\"))\n",
            "Epoch [1/1], Step [2250/41412], Loss: 3.5690, Perplexity: 35.4818\n",
            "Keep-alive request failed: HTTPSConnectionPool(host='nebula.udacity.com', port=443): Max retries exceeded with url: /api/v1/remote/keep-alive (Caused by NameResolutionError(\"<urllib3.connection.HTTPSConnection object at 0x7d2c332db3d0>: Failed to resolve 'nebula.udacity.com' ([Errno -2] Name or service not known)\"))\n",
            "Epoch [1/1], Step [2264/41412], Loss: 2.8219, Perplexity: 16.8080\n",
            "Keep-alive request failed: HTTPSConnectionPool(host='nebula.udacity.com', port=443): Max retries exceeded with url: /api/v1/remote/keep-alive (Caused by NameResolutionError(\"<urllib3.connection.HTTPSConnection object at 0x7d2c33486a40>: Failed to resolve 'nebula.udacity.com' ([Errno -2] Name or service not known)\"))\n",
            "Epoch [1/1], Step [2279/41412], Loss: 3.5047, Perplexity: 33.2714\n",
            "Keep-alive request failed: HTTPSConnectionPool(host='nebula.udacity.com', port=443): Max retries exceeded with url: /api/v1/remote/keep-alive (Caused by NameResolutionError(\"<urllib3.connection.HTTPSConnection object at 0x7d2c334869e0>: Failed to resolve 'nebula.udacity.com' ([Errno -2] Name or service not known)\"))\n",
            "Epoch [1/1], Step [2295/41412], Loss: 2.8612, Perplexity: 17.4817\n",
            "Keep-alive request failed: HTTPSConnectionPool(host='nebula.udacity.com', port=443): Max retries exceeded with url: /api/v1/remote/keep-alive (Caused by NameResolutionError(\"<urllib3.connection.HTTPSConnection object at 0x7d2cfae16770>: Failed to resolve 'nebula.udacity.com' ([Errno -2] Name or service not known)\"))\n",
            "Epoch [1/1], Step [2300/41412], Loss: 3.2900, Perplexity: 26.8428\n",
            "Epoch [1/1], Step [2311/41412], Loss: 2.8560, Perplexity: 17.3922\n",
            "Keep-alive request failed: HTTPSConnectionPool(host='nebula.udacity.com', port=443): Max retries exceeded with url: /api/v1/remote/keep-alive (Caused by NameResolutionError(\"<urllib3.connection.HTTPSConnection object at 0x7d2c332db0a0>: Failed to resolve 'nebula.udacity.com' ([Errno -2] Name or service not known)\"))\n",
            "Epoch [1/1], Step [2327/41412], Loss: 2.8821, Perplexity: 17.8519\n",
            "Keep-alive request failed: HTTPSConnectionPool(host='nebula.udacity.com', port=443): Max retries exceeded with url: /api/v1/remote/keep-alive (Caused by NameResolutionError(\"<urllib3.connection.HTTPSConnection object at 0x7d2c332daef0>: Failed to resolve 'nebula.udacity.com' ([Errno -2] Name or service not known)\"))\n",
            "Epoch [1/1], Step [2343/41412], Loss: 2.8412, Perplexity: 17.1361\n",
            "Keep-alive request failed: HTTPSConnectionPool(host='nebula.udacity.com', port=443): Max retries exceeded with url: /api/v1/remote/keep-alive (Caused by NameResolutionError(\"<urllib3.connection.HTTPSConnection object at 0x7d2c332d9840>: Failed to resolve 'nebula.udacity.com' ([Errno -2] Name or service not known)\"))\n",
            "Epoch [1/1], Step [2358/41412], Loss: 2.6124, Perplexity: 13.6312\n",
            "Keep-alive request failed: HTTPSConnectionPool(host='nebula.udacity.com', port=443): Max retries exceeded with url: /api/v1/remote/keep-alive (Caused by NameResolutionError(\"<urllib3.connection.HTTPSConnection object at 0x7d2c4007fd00>: Failed to resolve 'nebula.udacity.com' ([Errno -2] Name or service not known)\"))\n",
            "Epoch [1/1], Step [2374/41412], Loss: 3.1306, Perplexity: 22.8868\n",
            "Keep-alive request failed: HTTPSConnectionPool(host='nebula.udacity.com', port=443): Max retries exceeded with url: /api/v1/remote/keep-alive (Caused by NameResolutionError(\"<urllib3.connection.HTTPSConnection object at 0x7d2c334869b0>: Failed to resolve 'nebula.udacity.com' ([Errno -2] Name or service not known)\"))\n",
            "Epoch [1/1], Step [2390/41412], Loss: 3.0627, Perplexity: 21.3853\n",
            "Keep-alive request failed: HTTPSConnectionPool(host='nebula.udacity.com', port=443): Max retries exceeded with url: /api/v1/remote/keep-alive (Caused by NameResolutionError(\"<urllib3.connection.HTTPSConnection object at 0x7d2c332da350>: Failed to resolve 'nebula.udacity.com' ([Errno -2] Name or service not known)\"))\n",
            "Epoch [1/1], Step [2400/41412], Loss: 2.9613, Perplexity: 19.3229\n",
            "Epoch [1/1], Step [2406/41412], Loss: 2.9258, Perplexity: 18.6484\n",
            "Keep-alive request failed: HTTPSConnectionPool(host='nebula.udacity.com', port=443): Max retries exceeded with url: /api/v1/remote/keep-alive (Caused by NameResolutionError(\"<urllib3.connection.HTTPSConnection object at 0x7d2c332dadd0>: Failed to resolve 'nebula.udacity.com' ([Errno -2] Name or service not known)\"))\n",
            "Epoch [1/1], Step [2422/41412], Loss: 2.7941, Perplexity: 16.3483\n",
            "Keep-alive request failed: HTTPSConnectionPool(host='nebula.udacity.com', port=443): Max retries exceeded with url: /api/v1/remote/keep-alive (Caused by NameResolutionError(\"<urllib3.connection.HTTPSConnection object at 0x7d2c332da7d0>: Failed to resolve 'nebula.udacity.com' ([Errno -2] Name or service not known)\"))\n",
            "Epoch [1/1], Step [2438/41412], Loss: 3.1569, Perplexity: 23.4966\n",
            "Keep-alive request failed: HTTPSConnectionPool(host='nebula.udacity.com', port=443): Max retries exceeded with url: /api/v1/remote/keep-alive (Caused by NameResolutionError(\"<urllib3.connection.HTTPSConnection object at 0x7d2c33487250>: Failed to resolve 'nebula.udacity.com' ([Errno -2] Name or service not known)\"))\n",
            "Epoch [1/1], Step [2454/41412], Loss: 2.8304, Perplexity: 16.9528\n",
            "Keep-alive request failed: HTTPSConnectionPool(host='nebula.udacity.com', port=443): Max retries exceeded with url: /api/v1/remote/keep-alive (Caused by NameResolutionError(\"<urllib3.connection.HTTPSConnection object at 0x7d2c33487550>: Failed to resolve 'nebula.udacity.com' ([Errno -2] Name or service not known)\"))\n",
            "Epoch [1/1], Step [2469/41412], Loss: 3.2145, Perplexity: 24.8897\n",
            "Keep-alive request failed: HTTPSConnectionPool(host='nebula.udacity.com', port=443): Max retries exceeded with url: /api/v1/remote/keep-alive (Caused by NameResolutionError(\"<urllib3.connection.HTTPSConnection object at 0x7d2cfae16ad0>: Failed to resolve 'nebula.udacity.com' ([Errno -2] Name or service not known)\"))\n",
            "Epoch [1/1], Step [2485/41412], Loss: 3.1994, Perplexity: 24.5177\n",
            "Keep-alive request failed: HTTPSConnectionPool(host='nebula.udacity.com', port=443): Max retries exceeded with url: /api/v1/remote/keep-alive (Caused by NameResolutionError(\"<urllib3.connection.HTTPSConnection object at 0x7d2c332da1a0>: Failed to resolve 'nebula.udacity.com' ([Errno -2] Name or service not known)\"))\n",
            "Epoch [1/1], Step [2500/41412], Loss: 2.2865, Perplexity: 9.8403\n",
            "Epoch [1/1], Step [2501/41412], Loss: 3.1383, Perplexity: 23.0647\n",
            "Keep-alive request failed: HTTPSConnectionPool(host='nebula.udacity.com', port=443): Max retries exceeded with url: /api/v1/remote/keep-alive (Caused by NameResolutionError(\"<urllib3.connection.HTTPSConnection object at 0x7d2c332db970>: Failed to resolve 'nebula.udacity.com' ([Errno -2] Name or service not known)\"))\n",
            "Epoch [1/1], Step [2515/41412], Loss: 3.3195, Perplexity: 27.6468\n",
            "Keep-alive request failed: HTTPSConnectionPool(host='nebula.udacity.com', port=443): Max retries exceeded with url: /api/v1/remote/keep-alive (Caused by NameResolutionError(\"<urllib3.connection.HTTPSConnection object at 0x7d2c332d8580>: Failed to resolve 'nebula.udacity.com' ([Errno -2] Name or service not known)\"))\n",
            "Epoch [1/1], Step [2531/41412], Loss: 3.0934, Perplexity: 22.0511\n",
            "Keep-alive request failed: HTTPSConnectionPool(host='nebula.udacity.com', port=443): Max retries exceeded with url: /api/v1/remote/keep-alive (Caused by NameResolutionError(\"<urllib3.connection.HTTPSConnection object at 0x7d2c4007fca0>: Failed to resolve 'nebula.udacity.com' ([Errno -2] Name or service not known)\"))\n",
            "Epoch [1/1], Step [2547/41412], Loss: 3.0863, Perplexity: 21.8952\n",
            "Keep-alive request failed: HTTPSConnectionPool(host='nebula.udacity.com', port=443): Max retries exceeded with url: /api/v1/remote/keep-alive (Caused by NameResolutionError(\"<urllib3.connection.HTTPSConnection object at 0x7d2c33486980>: Failed to resolve 'nebula.udacity.com' ([Errno -2] Name or service not known)\"))\n",
            "Epoch [1/1], Step [2563/41412], Loss: 3.3026, Perplexity: 27.1824\n",
            "Keep-alive request failed: HTTPSConnectionPool(host='nebula.udacity.com', port=443): Max retries exceeded with url: /api/v1/remote/keep-alive (Caused by NameResolutionError(\"<urllib3.connection.HTTPSConnection object at 0x7d2c332d99f0>: Failed to resolve 'nebula.udacity.com' ([Errno -2] Name or service not known)\"))\n",
            "Epoch [1/1], Step [2579/41412], Loss: 2.8302, Perplexity: 16.9488\n",
            "Keep-alive request failed: HTTPSConnectionPool(host='nebula.udacity.com', port=443): Max retries exceeded with url: /api/v1/remote/keep-alive (Caused by NameResolutionError(\"<urllib3.connection.HTTPSConnection object at 0x7d2c332d9900>: Failed to resolve 'nebula.udacity.com' ([Errno -2] Name or service not known)\"))\n",
            "Epoch [1/1], Step [2594/41412], Loss: 2.8385, Perplexity: 17.0904\n",
            "Keep-alive request failed: HTTPSConnectionPool(host='nebula.udacity.com', port=443): Max retries exceeded with url: /api/v1/remote/keep-alive (Caused by NameResolutionError(\"<urllib3.connection.HTTPSConnection object at 0x7d2c332dab60>: Failed to resolve 'nebula.udacity.com' ([Errno -2] Name or service not known)\"))\n",
            "Epoch [1/1], Step [2600/41412], Loss: 3.2993, Perplexity: 27.0929\n",
            "Epoch [1/1], Step [2609/41412], Loss: 3.4921, Perplexity: 32.8561\n",
            "Keep-alive request failed: HTTPSConnectionPool(host='nebula.udacity.com', port=443): Max retries exceeded with url: /api/v1/remote/keep-alive (Caused by NameResolutionError(\"<urllib3.connection.HTTPSConnection object at 0x7d2c33487280>: Failed to resolve 'nebula.udacity.com' ([Errno -2] Name or service not known)\"))\n",
            "Epoch [1/1], Step [2624/41412], Loss: 2.2084, Perplexity: 9.1010\n",
            "Keep-alive request failed: HTTPSConnectionPool(host='nebula.udacity.com', port=443): Max retries exceeded with url: /api/v1/remote/keep-alive (Caused by NameResolutionError(\"<urllib3.connection.HTTPSConnection object at 0x7d2c33486fb0>: Failed to resolve 'nebula.udacity.com' ([Errno -2] Name or service not known)\"))\n",
            "Epoch [1/1], Step [2640/41412], Loss: 2.8942, Perplexity: 18.0691\n",
            "Keep-alive request failed: HTTPSConnectionPool(host='nebula.udacity.com', port=443): Max retries exceeded with url: /api/v1/remote/keep-alive (Caused by NameResolutionError(\"<urllib3.connection.HTTPSConnection object at 0x7d2cfae17910>: Failed to resolve 'nebula.udacity.com' ([Errno -2] Name or service not known)\"))\n",
            "Epoch [1/1], Step [2655/41412], Loss: 3.2776, Perplexity: 26.5120\n",
            "Keep-alive request failed: HTTPSConnectionPool(host='nebula.udacity.com', port=443): Max retries exceeded with url: /api/v1/remote/keep-alive (Caused by NameResolutionError(\"<urllib3.connection.HTTPSConnection object at 0x7d2c332db6a0>: Failed to resolve 'nebula.udacity.com' ([Errno -2] Name or service not known)\"))\n",
            "Epoch [1/1], Step [2669/41412], Loss: 2.9321, Perplexity: 18.7670\n",
            "Keep-alive request failed: HTTPSConnectionPool(host='nebula.udacity.com', port=443): Max retries exceeded with url: /api/v1/remote/keep-alive (Caused by NameResolutionError(\"<urllib3.connection.HTTPSConnection object at 0x7d2c332d91b0>: Failed to resolve 'nebula.udacity.com' ([Errno -2] Name or service not known)\"))\n",
            "Epoch [1/1], Step [2684/41412], Loss: 2.9536, Perplexity: 19.1758\n",
            "Keep-alive request failed: HTTPSConnectionPool(host='nebula.udacity.com', port=443): Max retries exceeded with url: /api/v1/remote/keep-alive (Caused by NameResolutionError(\"<urllib3.connection.HTTPSConnection object at 0x7d2c332daaa0>: Failed to resolve 'nebula.udacity.com' ([Errno -2] Name or service not known)\"))\n",
            "Epoch [1/1], Step [2699/41412], Loss: 3.2623, Perplexity: 26.1092\n",
            "Keep-alive request failed: HTTPSConnectionPool(host='nebula.udacity.com', port=443): Max retries exceeded with url: /api/v1/remote/keep-alive (Caused by NameResolutionError(\"<urllib3.connection.HTTPSConnection object at 0x7d2c333215a0>: Failed to resolve 'nebula.udacity.com' ([Errno -2] Name or service not known)\"))\n",
            "Epoch [1/1], Step [2700/41412], Loss: 3.4963, Perplexity: 32.9935\n",
            "Epoch [1/1], Step [2714/41412], Loss: 2.5119, Perplexity: 12.3282\n",
            "Keep-alive request failed: HTTPSConnectionPool(host='nebula.udacity.com', port=443): Max retries exceeded with url: /api/v1/remote/keep-alive (Caused by NameResolutionError(\"<urllib3.connection.HTTPSConnection object at 0x7d2c33487fd0>: Failed to resolve 'nebula.udacity.com' ([Errno -2] Name or service not known)\"))\n",
            "Epoch [1/1], Step [2729/41412], Loss: 2.6093, Perplexity: 13.5895\n",
            "Keep-alive request failed: HTTPSConnectionPool(host='nebula.udacity.com', port=443): Max retries exceeded with url: /api/v1/remote/keep-alive (Caused by NameResolutionError(\"<urllib3.connection.HTTPSConnection object at 0x7d2c332d8d00>: Failed to resolve 'nebula.udacity.com' ([Errno -2] Name or service not known)\"))\n",
            "Epoch [1/1], Step [2744/41412], Loss: 2.7196, Perplexity: 15.1744\n",
            "Keep-alive request failed: HTTPSConnectionPool(host='nebula.udacity.com', port=443): Max retries exceeded with url: /api/v1/remote/keep-alive (Caused by NameResolutionError(\"<urllib3.connection.HTTPSConnection object at 0x7d2c332d8eb0>: Failed to resolve 'nebula.udacity.com' ([Errno -2] Name or service not known)\"))\n",
            "Epoch [1/1], Step [2759/41412], Loss: 2.8584, Perplexity: 17.4338\n",
            "Keep-alive request failed: HTTPSConnectionPool(host='nebula.udacity.com', port=443): Max retries exceeded with url: /api/v1/remote/keep-alive (Caused by NameResolutionError(\"<urllib3.connection.HTTPSConnection object at 0x7d2c332d8430>: Failed to resolve 'nebula.udacity.com' ([Errno -2] Name or service not known)\"))\n",
            "Epoch [1/1], Step [2774/41412], Loss: 2.8170, Perplexity: 16.7263\n",
            "Keep-alive request failed: HTTPSConnectionPool(host='nebula.udacity.com', port=443): Max retries exceeded with url: /api/v1/remote/keep-alive (Caused by NameResolutionError(\"<urllib3.connection.HTTPSConnection object at 0x7d2c33487280>: Failed to resolve 'nebula.udacity.com' ([Errno -2] Name or service not known)\"))\n",
            "Epoch [1/1], Step [2790/41412], Loss: 3.6607, Perplexity: 38.8883\n",
            "Keep-alive request failed: HTTPSConnectionPool(host='nebula.udacity.com', port=443): Max retries exceeded with url: /api/v1/remote/keep-alive (Caused by NameResolutionError(\"<urllib3.connection.HTTPSConnection object at 0x7d2c33486650>: Failed to resolve 'nebula.udacity.com' ([Errno -2] Name or service not known)\"))\n",
            "Epoch [1/1], Step [2800/41412], Loss: 2.4884, Perplexity: 12.0416\n",
            "Epoch [1/1], Step [2805/41412], Loss: 2.9520, Perplexity: 19.1434\n",
            "Keep-alive request failed: HTTPSConnectionPool(host='nebula.udacity.com', port=443): Max retries exceeded with url: /api/v1/remote/keep-alive (Caused by NameResolutionError(\"<urllib3.connection.HTTPSConnection object at 0x7d2c33323190>: Failed to resolve 'nebula.udacity.com' ([Errno -2] Name or service not known)\"))\n",
            "Epoch [1/1], Step [2819/41412], Loss: 2.9817, Perplexity: 19.7217\n",
            "Keep-alive request failed: HTTPSConnectionPool(host='nebula.udacity.com', port=443): Max retries exceeded with url: /api/v1/remote/keep-alive (Caused by NameResolutionError(\"<urllib3.connection.HTTPSConnection object at 0x7d2c332da860>: Failed to resolve 'nebula.udacity.com' ([Errno -2] Name or service not known)\"))\n",
            "Epoch [1/1], Step [2834/41412], Loss: 3.3843, Perplexity: 29.4970\n",
            "Keep-alive request failed: HTTPSConnectionPool(host='nebula.udacity.com', port=443): Max retries exceeded with url: /api/v1/remote/keep-alive (Caused by NameResolutionError(\"<urllib3.connection.HTTPSConnection object at 0x7d2c332d8730>: Failed to resolve 'nebula.udacity.com' ([Errno -2] Name or service not known)\"))\n",
            "Epoch [1/1], Step [2849/41412], Loss: 2.3753, Perplexity: 10.7546\n",
            "Keep-alive request failed: HTTPSConnectionPool(host='nebula.udacity.com', port=443): Max retries exceeded with url: /api/v1/remote/keep-alive (Caused by NameResolutionError(\"<urllib3.connection.HTTPSConnection object at 0x7d2c332dac80>: Failed to resolve 'nebula.udacity.com' ([Errno -2] Name or service not known)\"))\n",
            "Epoch [1/1], Step [2864/41412], Loss: 2.5554, Perplexity: 12.8768\n",
            "Keep-alive request failed: HTTPSConnectionPool(host='nebula.udacity.com', port=443): Max retries exceeded with url: /api/v1/remote/keep-alive (Caused by NameResolutionError(\"<urllib3.connection.HTTPSConnection object at 0x7d2c4007fd00>: Failed to resolve 'nebula.udacity.com' ([Errno -2] Name or service not known)\"))\n",
            "Epoch [1/1], Step [2879/41412], Loss: 2.7027, Perplexity: 14.9198\n",
            "Keep-alive request failed: HTTPSConnectionPool(host='nebula.udacity.com', port=443): Max retries exceeded with url: /api/v1/remote/keep-alive (Caused by NameResolutionError(\"<urllib3.connection.HTTPSConnection object at 0x7d2c33487d60>: Failed to resolve 'nebula.udacity.com' ([Errno -2] Name or service not known)\"))\n",
            "Epoch [1/1], Step [2894/41412], Loss: 2.9203, Perplexity: 18.5474\n",
            "Keep-alive request failed: HTTPSConnectionPool(host='nebula.udacity.com', port=443): Max retries exceeded with url: /api/v1/remote/keep-alive (Caused by NameResolutionError(\"<urllib3.connection.HTTPSConnection object at 0x7d2c332d81c0>: Failed to resolve 'nebula.udacity.com' ([Errno -2] Name or service not known)\"))\n",
            "Epoch [1/1], Step [2900/41412], Loss: 3.1774, Perplexity: 23.9850\n",
            "Epoch [1/1], Step [2909/41412], Loss: 2.7284, Perplexity: 15.3077\n",
            "Keep-alive request failed: HTTPSConnectionPool(host='nebula.udacity.com', port=443): Max retries exceeded with url: /api/v1/remote/keep-alive (Caused by NameResolutionError(\"<urllib3.connection.HTTPSConnection object at 0x7d2c332d9210>: Failed to resolve 'nebula.udacity.com' ([Errno -2] Name or service not known)\"))\n",
            "Epoch [1/1], Step [2924/41412], Loss: 3.1303, Perplexity: 22.8802\n",
            "Keep-alive request failed: HTTPSConnectionPool(host='nebula.udacity.com', port=443): Max retries exceeded with url: /api/v1/remote/keep-alive (Caused by NameResolutionError(\"<urllib3.connection.HTTPSConnection object at 0x7d2c332d91b0>: Failed to resolve 'nebula.udacity.com' ([Errno -2] Name or service not known)\"))\n",
            "Epoch [1/1], Step [2939/41412], Loss: 2.3602, Perplexity: 10.5926\n",
            "Keep-alive request failed: HTTPSConnectionPool(host='nebula.udacity.com', port=443): Max retries exceeded with url: /api/v1/remote/keep-alive (Caused by NameResolutionError(\"<urllib3.connection.HTTPSConnection object at 0x7d2c33487df0>: Failed to resolve 'nebula.udacity.com' ([Errno -2] Name or service not known)\"))\n",
            "Epoch [1/1], Step [2954/41412], Loss: 2.5632, Perplexity: 12.9775\n",
            "Keep-alive request failed: HTTPSConnectionPool(host='nebula.udacity.com', port=443): Max retries exceeded with url: /api/v1/remote/keep-alive (Caused by NameResolutionError(\"<urllib3.connection.HTTPSConnection object at 0x7d2c334862f0>: Failed to resolve 'nebula.udacity.com' ([Errno -2] Name or service not known)\"))\n",
            "Epoch [1/1], Step [2967/41412], Loss: 3.0018, Perplexity: 20.1211\n",
            "Keep-alive request failed: HTTPSConnectionPool(host='nebula.udacity.com', port=443): Max retries exceeded with url: /api/v1/remote/keep-alive (Caused by NameResolutionError(\"<urllib3.connection.HTTPSConnection object at 0x7d2cfae16290>: Failed to resolve 'nebula.udacity.com' ([Errno -2] Name or service not known)\"))\n",
            "Epoch [1/1], Step [2982/41412], Loss: 3.5798, Perplexity: 35.8673\n",
            "Keep-alive request failed: HTTPSConnectionPool(host='nebula.udacity.com', port=443): Max retries exceeded with url: /api/v1/remote/keep-alive (Caused by NameResolutionError(\"<urllib3.connection.HTTPSConnection object at 0x7d2c332da6e0>: Failed to resolve 'nebula.udacity.com' ([Errno -2] Name or service not known)\"))\n",
            "Epoch [1/1], Step [2997/41412], Loss: 2.9620, Perplexity: 19.3363\n",
            "Keep-alive request failed: HTTPSConnectionPool(host='nebula.udacity.com', port=443): Max retries exceeded with url: /api/v1/remote/keep-alive (Caused by NameResolutionError(\"<urllib3.connection.HTTPSConnection object at 0x7d2c332d9540>: Failed to resolve 'nebula.udacity.com' ([Errno -2] Name or service not known)\"))\n",
            "Epoch [1/1], Step [3000/41412], Loss: 2.8511, Perplexity: 17.3072\n",
            "Epoch [1/1], Step [3012/41412], Loss: 2.5610, Perplexity: 12.9489\n",
            "Keep-alive request failed: HTTPSConnectionPool(host='nebula.udacity.com', port=443): Max retries exceeded with url: /api/v1/remote/keep-alive (Caused by NameResolutionError(\"<urllib3.connection.HTTPSConnection object at 0x7d2c332db610>: Failed to resolve 'nebula.udacity.com' ([Errno -2] Name or service not known)\"))\n",
            "Epoch [1/1], Step [3027/41412], Loss: 2.9835, Perplexity: 19.7562\n",
            "Keep-alive request failed: HTTPSConnectionPool(host='nebula.udacity.com', port=443): Max retries exceeded with url: /api/v1/remote/keep-alive (Caused by NameResolutionError(\"<urllib3.connection.HTTPSConnection object at 0x7d2c4007f220>: Failed to resolve 'nebula.udacity.com' ([Errno -2] Name or service not known)\"))\n",
            "Epoch [1/1], Step [3042/41412], Loss: 2.7763, Perplexity: 16.0592\n",
            "Keep-alive request failed: HTTPSConnectionPool(host='nebula.udacity.com', port=443): Max retries exceeded with url: /api/v1/remote/keep-alive (Caused by NameResolutionError(\"<urllib3.connection.HTTPSConnection object at 0x7d2c334871f0>: Failed to resolve 'nebula.udacity.com' ([Errno -2] Name or service not known)\"))\n",
            "Epoch [1/1], Step [3057/41412], Loss: 3.0544, Perplexity: 21.2087\n",
            "Keep-alive request failed: HTTPSConnectionPool(host='nebula.udacity.com', port=443): Max retries exceeded with url: /api/v1/remote/keep-alive (Caused by NameResolutionError(\"<urllib3.connection.HTTPSConnection object at 0x7d2c332d8340>: Failed to resolve 'nebula.udacity.com' ([Errno -2] Name or service not known)\"))\n",
            "Epoch [1/1], Step [3072/41412], Loss: 2.4183, Perplexity: 11.2262\n",
            "Keep-alive request failed: HTTPSConnectionPool(host='nebula.udacity.com', port=443): Max retries exceeded with url: /api/v1/remote/keep-alive (Caused by NameResolutionError(\"<urllib3.connection.HTTPSConnection object at 0x7d2c332da7a0>: Failed to resolve 'nebula.udacity.com' ([Errno -2] Name or service not known)\"))\n",
            "Epoch [1/1], Step [3087/41412], Loss: 3.4013, Perplexity: 30.0035\n",
            "Keep-alive request failed: HTTPSConnectionPool(host='nebula.udacity.com', port=443): Max retries exceeded with url: /api/v1/remote/keep-alive (Caused by NameResolutionError(\"<urllib3.connection.HTTPSConnection object at 0x7d2c332d9450>: Failed to resolve 'nebula.udacity.com' ([Errno -2] Name or service not known)\"))\n",
            "Epoch [1/1], Step [3100/41412], Loss: 3.1061, Perplexity: 22.3345\n",
            "Epoch [1/1], Step [3102/41412], Loss: 2.4374, Perplexity: 11.4436\n",
            "Keep-alive request failed: HTTPSConnectionPool(host='nebula.udacity.com', port=443): Max retries exceeded with url: /api/v1/remote/keep-alive (Caused by NameResolutionError(\"<urllib3.connection.HTTPSConnection object at 0x7d2c33486710>: Failed to resolve 'nebula.udacity.com' ([Errno -2] Name or service not known)\"))\n",
            "Epoch [1/1], Step [3117/41412], Loss: 2.6504, Perplexity: 14.1598\n",
            "Keep-alive request failed: HTTPSConnectionPool(host='nebula.udacity.com', port=443): Max retries exceeded with url: /api/v1/remote/keep-alive (Caused by NameResolutionError(\"<urllib3.connection.HTTPSConnection object at 0x7d2c333215a0>: Failed to resolve 'nebula.udacity.com' ([Errno -2] Name or service not known)\"))\n",
            "Epoch [1/1], Step [3132/41412], Loss: 2.2654, Perplexity: 9.6352\n",
            "Keep-alive request failed: HTTPSConnectionPool(host='nebula.udacity.com', port=443): Max retries exceeded with url: /api/v1/remote/keep-alive (Caused by NameResolutionError(\"<urllib3.connection.HTTPSConnection object at 0x7d2cfae17670>: Failed to resolve 'nebula.udacity.com' ([Errno -2] Name or service not known)\"))\n",
            "Epoch [1/1], Step [3147/41412], Loss: 2.3358, Perplexity: 10.3377\n",
            "Keep-alive request failed: HTTPSConnectionPool(host='nebula.udacity.com', port=443): Max retries exceeded with url: /api/v1/remote/keep-alive (Caused by NameResolutionError(\"<urllib3.connection.HTTPSConnection object at 0x7d2c332da9e0>: Failed to resolve 'nebula.udacity.com' ([Errno -2] Name or service not known)\"))\n",
            "Epoch [1/1], Step [3160/41412], Loss: 3.5674, Perplexity: 35.4241\n",
            "Keep-alive request failed: HTTPSConnectionPool(host='nebula.udacity.com', port=443): Max retries exceeded with url: /api/v1/remote/keep-alive (Caused by NameResolutionError(\"<urllib3.connection.HTTPSConnection object at 0x7d2c332da620>: Failed to resolve 'nebula.udacity.com' ([Errno -2] Name or service not known)\"))\n",
            "Epoch [1/1], Step [3175/41412], Loss: 3.2517, Perplexity: 25.8344\n",
            "Keep-alive request failed: HTTPSConnectionPool(host='nebula.udacity.com', port=443): Max retries exceeded with url: /api/v1/remote/keep-alive (Caused by NameResolutionError(\"<urllib3.connection.HTTPSConnection object at 0x7d2c332d8460>: Failed to resolve 'nebula.udacity.com' ([Errno -2] Name or service not known)\"))\n",
            "Epoch [1/1], Step [3190/41412], Loss: 2.5634, Perplexity: 12.9802\n",
            "Keep-alive request failed: HTTPSConnectionPool(host='nebula.udacity.com', port=443): Max retries exceeded with url: /api/v1/remote/keep-alive (Caused by NameResolutionError(\"<urllib3.connection.HTTPSConnection object at 0x7d2c4007f220>: Failed to resolve 'nebula.udacity.com' ([Errno -2] Name or service not known)\"))\n",
            "Epoch [1/1], Step [3200/41412], Loss: 2.8643, Perplexity: 17.5363\n",
            "Epoch [1/1], Step [3205/41412], Loss: 2.9905, Perplexity: 19.8965\n",
            "Keep-alive request failed: HTTPSConnectionPool(host='nebula.udacity.com', port=443): Max retries exceeded with url: /api/v1/remote/keep-alive (Caused by NameResolutionError(\"<urllib3.connection.HTTPSConnection object at 0x7d2c334874f0>: Failed to resolve 'nebula.udacity.com' ([Errno -2] Name or service not known)\"))\n",
            "Epoch [1/1], Step [3220/41412], Loss: 2.9306, Perplexity: 18.7397\n",
            "Keep-alive request failed: HTTPSConnectionPool(host='nebula.udacity.com', port=443): Max retries exceeded with url: /api/v1/remote/keep-alive (Caused by NameResolutionError(\"<urllib3.connection.HTTPSConnection object at 0x7d2c332d8910>: Failed to resolve 'nebula.udacity.com' ([Errno -2] Name or service not known)\"))\n",
            "Epoch [1/1], Step [3235/41412], Loss: 3.0885, Perplexity: 21.9450\n",
            "Keep-alive request failed: HTTPSConnectionPool(host='nebula.udacity.com', port=443): Max retries exceeded with url: /api/v1/remote/keep-alive (Caused by NameResolutionError(\"<urllib3.connection.HTTPSConnection object at 0x7d2c332da350>: Failed to resolve 'nebula.udacity.com' ([Errno -2] Name or service not known)\"))\n",
            "Epoch [1/1], Step [3250/41412], Loss: 2.4712, Perplexity: 11.8366\n",
            "Keep-alive request failed: HTTPSConnectionPool(host='nebula.udacity.com', port=443): Max retries exceeded with url: /api/v1/remote/keep-alive (Caused by NameResolutionError(\"<urllib3.connection.HTTPSConnection object at 0x7d2c332da530>: Failed to resolve 'nebula.udacity.com' ([Errno -2] Name or service not known)\"))\n",
            "Epoch [1/1], Step [3266/41412], Loss: 2.7875, Perplexity: 16.2402\n",
            "Keep-alive request failed: HTTPSConnectionPool(host='nebula.udacity.com', port=443): Max retries exceeded with url: /api/v1/remote/keep-alive (Caused by NameResolutionError(\"<urllib3.connection.HTTPSConnection object at 0x7d2c334864d0>: Failed to resolve 'nebula.udacity.com' ([Errno -2] Name or service not known)\"))\n",
            "Epoch [1/1], Step [3282/41412], Loss: 3.2052, Perplexity: 24.6605\n",
            "Keep-alive request failed: HTTPSConnectionPool(host='nebula.udacity.com', port=443): Max retries exceeded with url: /api/v1/remote/keep-alive (Caused by NameResolutionError(\"<urllib3.connection.HTTPSConnection object at 0x7d2c33486170>: Failed to resolve 'nebula.udacity.com' ([Errno -2] Name or service not known)\"))\n",
            "Epoch [1/1], Step [3298/41412], Loss: 3.0727, Perplexity: 21.5995\n",
            "Keep-alive request failed: HTTPSConnectionPool(host='nebula.udacity.com', port=443): Max retries exceeded with url: /api/v1/remote/keep-alive (Caused by NameResolutionError(\"<urllib3.connection.HTTPSConnection object at 0x7d2cfae16b00>: Failed to resolve 'nebula.udacity.com' ([Errno -2] Name or service not known)\"))\n",
            "Epoch [1/1], Step [3300/41412], Loss: 2.6008, Perplexity: 13.4745\n",
            "Epoch [1/1], Step [3312/41412], Loss: 3.0652, Perplexity: 21.4389\n",
            "Keep-alive request failed: HTTPSConnectionPool(host='nebula.udacity.com', port=443): Max retries exceeded with url: /api/v1/remote/keep-alive (Caused by NameResolutionError(\"<urllib3.connection.HTTPSConnection object at 0x7d2c332da7a0>: Failed to resolve 'nebula.udacity.com' ([Errno -2] Name or service not known)\"))\n",
            "Epoch [1/1], Step [3328/41412], Loss: 2.7132, Perplexity: 15.0776\n",
            "Keep-alive request failed: HTTPSConnectionPool(host='nebula.udacity.com', port=443): Max retries exceeded with url: /api/v1/remote/keep-alive (Caused by NameResolutionError(\"<urllib3.connection.HTTPSConnection object at 0x7d2c332db280>: Failed to resolve 'nebula.udacity.com' ([Errno -2] Name or service not known)\"))\n",
            "Epoch [1/1], Step [3338/41412], Loss: 2.8948, Perplexity: 18.0803"
          ]
        }
      ],
      "source": [
        "import torch.utils.data as data\n",
        "import numpy as np\n",
        "import os\n",
        "import requests\n",
        "import time\n",
        "import sys\n",
        "\n",
        "# Assuming log_file, num_epochs, total_step, data_loader, device, decoder, encoder, criterion, vocab_size, optimizer, print_every, save_every are defined somewhere in the code above this snippet.\n",
        "\n",
        "# Open the training log file.\n",
        "f = open(log_file, 'w')\n",
        "old_time = time.time()\n",
        "response = requests.request(\"GET\", \"http://metadata.google.internal/computeMetadata/v1/instance/attributes/keep_alive_token\", headers={\"Metadata-Flavor\":\"Google\"})\n",
        "\n",
        "for epoch in range(1, num_epochs+1):\n",
        "    for i_step in range(1, total_step+1):\n",
        "        if time.time() - old_time > 60:\n",
        "            old_time = time.time()\n",
        "            try:\n",
        "                requests.request(\"POST\", \"https://nebula.udacity.com/api/v1/remote/keep-alive\", headers={'Authorization': \"STAR \" + response.text})\n",
        "            except requests.RequestException as e:\n",
        "                print(f\"\\nKeep-alive request failed: {e}\")\n",
        "\n",
        "        # Randomly sample a caption length, and sample indices with that length.\n",
        "        indices = data_loader.dataset.get_train_indices()\n",
        "\n",
        "        # Create and assign a batch sampler to retrieve a batch with the sampled indices.\n",
        "        new_sampler = data.sampler.SubsetRandomSampler(indices=indices)\n",
        "        data_loader.batch_sampler.sampler = new_sampler\n",
        "\n",
        "        # Obtain the batch.\n",
        "        images, captions = next(iter(data_loader))\n",
        "\n",
        "        # Move batch of images and captions to GPU if CUDA is available.\n",
        "        images = images.to(device)\n",
        "        captions = captions.to(device)\n",
        "\n",
        "        # Zero the gradients.\n",
        "        decoder.zero_grad()\n",
        "        encoder.zero_grad()\n",
        "\n",
        "        # Pass the inputs through the CNN-RNN model.\n",
        "        features = encoder(images)\n",
        "        outputs = decoder(features, captions)\n",
        "\n",
        "        # Calculate the batch loss.\n",
        "        loss = criterion(outputs.view(-1, vocab_size), captions.view(-1))\n",
        "\n",
        "        # Backward pass.\n",
        "        loss.backward()\n",
        "\n",
        "        # Update the parameters in the optimizer.\n",
        "        optimizer.step()\n",
        "\n",
        "        # Get training statistics.\n",
        "        stats = 'Epoch [%d/%d], Step [%d/%d], Loss: %.4f, Perplexity: %5.4f' % (epoch, num_epochs, i_step, total_step, loss.item(), np.exp(loss.item()))\n",
        "\n",
        "        # Print training statistics (on same line).\n",
        "        print('\\r' + stats, end=\"\")\n",
        "        sys.stdout.flush()\n",
        "\n",
        "        # Print training statistics to file.\n",
        "        f.write(stats + '\\n')\n",
        "        f.flush()\n",
        "\n",
        "        # Print training statistics (on different line).\n",
        "        if i_step % print_every == 0:\n",
        "            print('\\r' + stats)\n",
        "\n",
        "    # Save the weights.\n",
        "    if epoch % save_every == 0:\n",
        "        torch.save(decoder.state_dict(), os.path.join('./models', 'decoder-%d.pkl' % epoch))\n",
        "        torch.save(encoder.state_dict(), os.path.join('./models', 'encoder-%d.pkl' % epoch))\n",
        "\n",
        "# Close the training log file.\n",
        "f.close()\n"
      ]
    },
    {
      "cell_type": "code",
      "execution_count": 50,
      "metadata": {
        "id": "AcRd4aNNYiL5",
        "colab": {
          "base_uri": "https://localhost:8080/"
        },
        "outputId": "ca606492-4574-48e8-8498-0a8300177b6d"
      },
      "outputs": [
        {
          "output_type": "stream",
          "name": "stdout",
          "text": [
            "Vocabulary successfully loaded from vocab.pkl file!\n"
          ]
        }
      ],
      "source": [
        "import sys\n",
        "sys.path.append('/opt/cocoapi/PythonAPI')\n",
        "from pycocotools.coco import COCO\n",
        "# from data_loader import get_loader\n",
        "from torchvision import transforms\n",
        "\n",
        "# TODO #1: Define a transform to pre-process the testing images.\n",
        "transform_test = transforms.Compose([\n",
        "    transforms.Resize(256),                          # smaller edge of image resized to 256\n",
        "    transforms.RandomCrop(224),                      # get 224x224 crop from random location\n",
        "    transforms.RandomHorizontalFlip(),               # horizontally flip image with probability=0.5\n",
        "    transforms.ToTensor(),                           # convert the PIL Image to a tensor\n",
        "    transforms.Normalize((0.485, 0.456, 0.406),      # normalize image for pre-trained model\n",
        "                         (0.229, 0.224, 0.225))])\n",
        "\n",
        "#-#-#-# Do NOT modify the code below this line. #-#-#-#\n",
        "\n",
        "# Create the data loader.\n",
        "data_loader = get_loader(transform=transform_test,\n",
        "                         mode='test',\n",
        "                        #  batch_size=batch_size,\n",
        "                         vocab_from_file=True)"
      ]
    },
    {
      "cell_type": "code",
      "source": [
        "print(data_loader)"
      ],
      "metadata": {
        "colab": {
          "base_uri": "https://localhost:8080/"
        },
        "id": "e_21NcWFpBbL",
        "outputId": "b92a8399-9f30-4b77-a528-a44a88433aa0"
      },
      "execution_count": 48,
      "outputs": [
        {
          "output_type": "stream",
          "name": "stdout",
          "text": [
            "<torch.utils.data.dataloader.DataLoader object at 0x7f1e63c66110>\n"
          ]
        }
      ]
    },
    {
      "cell_type": "code",
      "source": [
        "import numpy as np\n",
        "import matplotlib.pyplot as plt\n",
        "%matplotlib inline\n",
        "\n",
        "# Obtain sample image before and after pre-processing.\n",
        "orig_image, image = next(iter(data_loader))\n",
        "\n",
        "# Visualize sample image, before pre-processing.\n",
        "plt.imshow(np.squeeze(orig_image))\n",
        "plt.title('example image')\n",
        "plt.show()"
      ],
      "metadata": {
        "id": "P9VPzFRc4KZV"
      },
      "execution_count": null,
      "outputs": []
    },
    {
      "cell_type": "code",
      "execution_count": 29,
      "metadata": {
        "id": "5oFsHa1rZTyX"
      },
      "outputs": [],
      "source": [
        "import torch\n",
        "\n",
        "device = torch.device(\"cuda\" if torch.cuda.is_available() else \"cpu\")"
      ]
    },
    {
      "cell_type": "code",
      "source": [
        "# Watch for any changes in model.py, and re-load it automatically.\n",
        "# % load_ext autoreload\n",
        "# % autoreload 2\n",
        "\n",
        "import os\n",
        "import torch\n",
        "# from model import EncoderCNN, DecoderRNN\n",
        "\n",
        "# Specify the saved models to load.\n",
        "encoder_file = 'encoder-3.pkl'\n",
        "decoder_file = 'decoder-3.pkl'\n",
        "\n",
        "# Select appropriate values for the Python variables below.\n",
        "embed_size = 256\n",
        "hidden_size = 512\n",
        "\n",
        "# The size of the vocabulary.\n",
        "vocab_size = len(data_loader.dataset.vocab)\n",
        "\n",
        "# Initialize the encoder and decoder, and set each to inference mode.\n",
        "encoder = EncoderCNN(embed_size)\n",
        "encoder.eval()\n",
        "decoder = DecoderRNN(embed_size, hidden_size, vocab_size)\n",
        "decoder.eval()\n",
        "\n",
        "# Load the trained weights.\n",
        "encoder.load_state_dict(torch.load(os.path.join('/content/image-captioning-pytorch/models/encoder-3.pkl'), map_location=torch.device('cpu')))\n",
        "decoder.load_state_dict(torch.load(os.path.join('/content/image-captioning-pytorch/models/decoder-3.pkl'), map_location=torch.device('cpu')))\n",
        "\n",
        "# Move models to GPU if CUDA is available.\n",
        "encoder.to(device)\n",
        "decoder.to(device)"
      ],
      "metadata": {
        "id": "9JezbkiM4UT9"
      },
      "execution_count": null,
      "outputs": []
    },
    {
      "cell_type": "code",
      "source": [
        "# Move image Pytorch Tensor to GPU if CUDA is available.\n",
        "image = image.to(device)\n",
        "\n",
        "# Obtain the embedded image features.\n",
        "features = encoder(image).unsqueeze(1)\n",
        "\n",
        "# Pass the embedded image features through the model to get a predicted caption.\n",
        "output = decoder.sample(features)\n",
        "print('example output:', output)\n",
        "\n",
        "assert (type(output)==list), \"Output needs to be a Python list\"\n",
        "assert all([type(x)==int for x in output]), \"Output should be a list of integers.\"\n",
        "assert all([x in data_loader.dataset.vocab.idx2word for x in output]), \"Each entry in the output needs to correspond to an integer that indicates a token in the vocabulary.\""
      ],
      "metadata": {
        "id": "QFgKO7Qh4V8O"
      },
      "execution_count": null,
      "outputs": []
    },
    {
      "cell_type": "code",
      "execution_count": null,
      "metadata": {
        "id": "vOoSNyBwZda6"
      },
      "outputs": [],
      "source": [
        "def clean_sentence(output):\n",
        "    cleaned_list = []\n",
        "    for index in output:\n",
        "        if  (index == 1) :\n",
        "            continue\n",
        "        cleaned_list.append(data_loader.dataset.vocab.idx2word[index])\n",
        "    cleaned_list = cleaned_list[1:-1] # Discard <start> and <end>\n",
        "\n",
        "    sentence = ' '.join(cleaned_list) # Convert list of string to\n",
        "    sentence = sentence.capitalize()\n",
        "    return sentence"
      ]
    },
    {
      "cell_type": "code",
      "execution_count": null,
      "metadata": {
        "id": "_oeNpiB5ZkPi"
      },
      "outputs": [],
      "source": [
        "sentence = clean_sentence(output)\n",
        "print('example sentence:', sentence)\n",
        "\n",
        "assert type(sentence)==str, 'Sentence needs to be a Python string!'\n",
        "\n",
        "def get_prediction():\n",
        "    orig_image, image = next(iter(data_loader))\n",
        "    plt.imshow(np.squeeze(orig_image))\n",
        "    plt.title('Sample Image')\n",
        "    plt.show()\n",
        "    image = image.to(device)\n",
        "    features = encoder(image).unsqueeze(1)\n",
        "    output = decoder.sample(features)\n",
        "    sentence = clean_sentence(output)\n",
        "    print(sentence)"
      ]
    }
  ],
  "metadata": {
    "colab": {
      "provenance": []
    },
    "kernelspec": {
      "display_name": "Python 3",
      "name": "python3"
    },
    "language_info": {
      "name": "python"
    }
  },
  "nbformat": 4,
  "nbformat_minor": 0
}